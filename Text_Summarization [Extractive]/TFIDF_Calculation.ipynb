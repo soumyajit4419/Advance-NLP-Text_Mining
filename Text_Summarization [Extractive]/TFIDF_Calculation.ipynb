{
  "nbformat": 4,
  "nbformat_minor": 0,
  "metadata": {
    "colab": {
      "name": "TFIDF_Text_Summarization.ipynb",
      "provenance": [],
      "collapsed_sections": []
    },
    "kernelspec": {
      "name": "python3",
      "display_name": "Python 3"
    }
  },
  "cells": [
    {
      "cell_type": "code",
      "metadata": {
        "id": "ymjRUX9yf0Zz",
        "colab_type": "code",
        "colab": {}
      },
      "source": [
        "import pandas as pd \n",
        "import numpy as np\n",
        "import matplotlib.pyplot as plt\n",
        "import math"
      ],
      "execution_count": 0,
      "outputs": []
    },
    {
      "cell_type": "code",
      "metadata": {
        "id": "n9tMUUSsgOF2",
        "colab_type": "code",
        "colab": {}
      },
      "source": [
        "import nltk\n",
        "import re\n",
        "from nltk.corpus import stopwords"
      ],
      "execution_count": 0,
      "outputs": []
    },
    {
      "cell_type": "code",
      "metadata": {
        "id": "PtaA1wTCgbpM",
        "colab_type": "code",
        "colab": {}
      },
      "source": [
        "text=\"The sun is a huge ball of gases. It has a diameter of 1,392,000 km. It is so huge that it can hold millions of planets inside it. The Sun is mainly made up of hydrogen and helium gas. The surface of the Sun is known as the photosphere. The photosphere is surrounded by a thin layer of gas known as the chromospheres. Without the Sun, there would be no life on Earth. There would be no plants, no animals and no human beings. As, all the living things on Earth get their energy from the Sun for their survival.\""
      ],
      "execution_count": 0,
      "outputs": []
    },
    {
      "cell_type": "markdown",
      "metadata": {
        "id": "2IlDBDJo3hiv",
        "colab_type": "text"
      },
      "source": [
        "## Tokenizing Sentences\n"
      ]
    },
    {
      "cell_type": "code",
      "metadata": {
        "id": "RFVVdaTUhYBa",
        "colab_type": "code",
        "colab": {}
      },
      "source": [
        "sentences=nltk.sent_tokenize(text)"
      ],
      "execution_count": 0,
      "outputs": []
    },
    {
      "cell_type": "code",
      "metadata": {
        "id": "EuJOjynVxqB6",
        "colab_type": "code",
        "colab": {
          "base_uri": "https://localhost:8080/",
          "height": 174
        },
        "outputId": "2ff5abfc-5bfb-4ffd-b963-275cfd97e315"
      },
      "source": [
        "sentences"
      ],
      "execution_count": 59,
      "outputs": [
        {
          "output_type": "execute_result",
          "data": {
            "text/plain": [
              "['The sun is a huge ball of gases.',\n",
              " 'It has a diameter of 1,392,000 km.',\n",
              " 'It is so huge that it can hold millions of planets inside it.',\n",
              " 'The Sun is mainly made up of hydrogen and helium gas.',\n",
              " 'The surface of the Sun is known as the photosphere.',\n",
              " 'The photosphere is surrounded by a thin layer of gas known as the chromospheres.',\n",
              " 'Without the Sun, there would be no life on Earth.',\n",
              " 'There would be no plants, no animals and no human beings.',\n",
              " 'As, all the living things on Earth get their energy from the Sun for their survival.']"
            ]
          },
          "metadata": {
            "tags": []
          },
          "execution_count": 59
        }
      ]
    },
    {
      "cell_type": "code",
      "metadata": {
        "id": "5outhGR3lhsP",
        "colab_type": "code",
        "colab": {}
      },
      "source": [
        "def clean_text(a):\n",
        "  text=re.sub('[^a-zA-Z]',' ',a)\n",
        "  text=text.lower()\n",
        "  return text"
      ],
      "execution_count": 0,
      "outputs": []
    },
    {
      "cell_type": "markdown",
      "metadata": {
        "id": "qf1ZbLnQ3pRS",
        "colab_type": "text"
      },
      "source": [
        "## Couting Number of Sentences and Total no of words in each sentence"
      ]
    },
    {
      "cell_type": "code",
      "metadata": {
        "id": "GgI8GEK_oMn2",
        "colab_type": "code",
        "colab": {}
      },
      "source": [
        "i=0\n",
        "doc_info=[]\n",
        "for sent in sentences:\n",
        "  sent=clean_text(sent)\n",
        "  words=nltk.word_tokenize(sent)\n",
        "  count=0\n",
        "  for word in words:\n",
        "    count=count+1\n",
        "  temp={'doc_id': i,'doc_length': count}\n",
        "  i=i+1\n",
        "  doc_info.append(temp)"
      ],
      "execution_count": 0,
      "outputs": []
    },
    {
      "cell_type": "code",
      "metadata": {
        "id": "1icH3tE1nOrS",
        "colab_type": "code",
        "colab": {
          "base_uri": "https://localhost:8080/",
          "height": 174
        },
        "outputId": "f136e678-365b-4db4-c62a-9ffa84905849"
      },
      "source": [
        "doc_info"
      ],
      "execution_count": 62,
      "outputs": [
        {
          "output_type": "execute_result",
          "data": {
            "text/plain": [
              "[{'doc_id': 0, 'doc_length': 8},\n",
              " {'doc_id': 1, 'doc_length': 6},\n",
              " {'doc_id': 2, 'doc_length': 13},\n",
              " {'doc_id': 3, 'doc_length': 11},\n",
              " {'doc_id': 4, 'doc_length': 10},\n",
              " {'doc_id': 5, 'doc_length': 14},\n",
              " {'doc_id': 6, 'doc_length': 10},\n",
              " {'doc_id': 7, 'doc_length': 11},\n",
              " {'doc_id': 8, 'doc_length': 16}]"
            ]
          },
          "metadata": {
            "tags": []
          },
          "execution_count": 62
        }
      ]
    },
    {
      "cell_type": "markdown",
      "metadata": {
        "id": "xtgzEiCH4fbX",
        "colab_type": "text"
      },
      "source": [
        "## Frequency of each word in sentence"
      ]
    },
    {
      "cell_type": "code",
      "metadata": {
        "id": "7eOQO6dJicN5",
        "colab_type": "code",
        "colab": {}
      },
      "source": [
        "i=0\n",
        "frequency_dict_list=[]\n",
        "for sent in sentences:\n",
        "  sent=clean_text(sent)\n",
        "  words=nltk.word_tokenize(sent)\n",
        "  frequency_dict={}\n",
        "  for word in words:\n",
        "    if word in frequency_dict:\n",
        "      frequency_dict[word]=frequency_dict[word]+1\n",
        "    else:\n",
        "      frequency_dict[word]=1\n",
        "  frequency_dict={'doc_id':i,'frequency_dict':frequency_dict}\n",
        "  i=i+1\n",
        "  frequency_dict_list.append(frequency_dict)"
      ],
      "execution_count": 0,
      "outputs": []
    },
    {
      "cell_type": "code",
      "metadata": {
        "id": "pzyCM7XcrKiw",
        "colab_type": "code",
        "colab": {
          "base_uri": "https://localhost:8080/",
          "height": 1000
        },
        "outputId": "62e48b27-1b23-4d27-ab99-30c0b78bbd19"
      },
      "source": [
        "frequency_dict_list"
      ],
      "execution_count": 64,
      "outputs": [
        {
          "output_type": "execute_result",
          "data": {
            "text/plain": [
              "[{'doc_id': 0,\n",
              "  'frequency_dict': {'a': 1,\n",
              "   'ball': 1,\n",
              "   'gases': 1,\n",
              "   'huge': 1,\n",
              "   'is': 1,\n",
              "   'of': 1,\n",
              "   'sun': 1,\n",
              "   'the': 1}},\n",
              " {'doc_id': 1,\n",
              "  'frequency_dict': {'a': 1,\n",
              "   'diameter': 1,\n",
              "   'has': 1,\n",
              "   'it': 1,\n",
              "   'km': 1,\n",
              "   'of': 1}},\n",
              " {'doc_id': 2,\n",
              "  'frequency_dict': {'can': 1,\n",
              "   'hold': 1,\n",
              "   'huge': 1,\n",
              "   'inside': 1,\n",
              "   'is': 1,\n",
              "   'it': 3,\n",
              "   'millions': 1,\n",
              "   'of': 1,\n",
              "   'planets': 1,\n",
              "   'so': 1,\n",
              "   'that': 1}},\n",
              " {'doc_id': 3,\n",
              "  'frequency_dict': {'and': 1,\n",
              "   'gas': 1,\n",
              "   'helium': 1,\n",
              "   'hydrogen': 1,\n",
              "   'is': 1,\n",
              "   'made': 1,\n",
              "   'mainly': 1,\n",
              "   'of': 1,\n",
              "   'sun': 1,\n",
              "   'the': 1,\n",
              "   'up': 1}},\n",
              " {'doc_id': 4,\n",
              "  'frequency_dict': {'as': 1,\n",
              "   'is': 1,\n",
              "   'known': 1,\n",
              "   'of': 1,\n",
              "   'photosphere': 1,\n",
              "   'sun': 1,\n",
              "   'surface': 1,\n",
              "   'the': 3}},\n",
              " {'doc_id': 5,\n",
              "  'frequency_dict': {'a': 1,\n",
              "   'as': 1,\n",
              "   'by': 1,\n",
              "   'chromospheres': 1,\n",
              "   'gas': 1,\n",
              "   'is': 1,\n",
              "   'known': 1,\n",
              "   'layer': 1,\n",
              "   'of': 1,\n",
              "   'photosphere': 1,\n",
              "   'surrounded': 1,\n",
              "   'the': 2,\n",
              "   'thin': 1}},\n",
              " {'doc_id': 6,\n",
              "  'frequency_dict': {'be': 1,\n",
              "   'earth': 1,\n",
              "   'life': 1,\n",
              "   'no': 1,\n",
              "   'on': 1,\n",
              "   'sun': 1,\n",
              "   'the': 1,\n",
              "   'there': 1,\n",
              "   'without': 1,\n",
              "   'would': 1}},\n",
              " {'doc_id': 7,\n",
              "  'frequency_dict': {'and': 1,\n",
              "   'animals': 1,\n",
              "   'be': 1,\n",
              "   'beings': 1,\n",
              "   'human': 1,\n",
              "   'no': 3,\n",
              "   'plants': 1,\n",
              "   'there': 1,\n",
              "   'would': 1}},\n",
              " {'doc_id': 8,\n",
              "  'frequency_dict': {'all': 1,\n",
              "   'as': 1,\n",
              "   'earth': 1,\n",
              "   'energy': 1,\n",
              "   'for': 1,\n",
              "   'from': 1,\n",
              "   'get': 1,\n",
              "   'living': 1,\n",
              "   'on': 1,\n",
              "   'sun': 1,\n",
              "   'survival': 1,\n",
              "   'the': 2,\n",
              "   'their': 2,\n",
              "   'things': 1}}]"
            ]
          },
          "metadata": {
            "tags": []
          },
          "execution_count": 64
        }
      ]
    },
    {
      "cell_type": "markdown",
      "metadata": {
        "id": "EbMCUJM034kU",
        "colab_type": "text"
      },
      "source": [
        "## Calculating Tf {Term Frequency}\n",
        "#### Tf= (frequency of word in the sentence / total number of words in the sentence)\n"
      ]
    },
    {
      "cell_type": "code",
      "metadata": {
        "id": "vy8tUGwIrhNN",
        "colab_type": "code",
        "colab": {}
      },
      "source": [
        "tf_score=[]\n",
        "for temp_dict in frequency_dict_list:\n",
        "  uid=temp_dict['doc_id']\n",
        "  for k in temp_dict['frequency_dict']:\n",
        "    temp={'doc_id':uid,'Tf_Score':temp_dict['frequency_dict'][k]/doc_info[uid]['doc_length'],'key':k}\n",
        "    tf_score.append(temp)"
      ],
      "execution_count": 0,
      "outputs": []
    },
    {
      "cell_type": "code",
      "metadata": {
        "id": "ggQA2kE5wX9g",
        "colab_type": "code",
        "colab": {
          "base_uri": "https://localhost:8080/",
          "height": 1000
        },
        "outputId": "3ef0d6e9-4f62-451a-9815-2b028455d8f6"
      },
      "source": [
        "tf_score"
      ],
      "execution_count": 66,
      "outputs": [
        {
          "output_type": "execute_result",
          "data": {
            "text/plain": [
              "[{'Tf_Score': 0.125, 'doc_id': 0, 'key': 'the'},\n",
              " {'Tf_Score': 0.125, 'doc_id': 0, 'key': 'sun'},\n",
              " {'Tf_Score': 0.125, 'doc_id': 0, 'key': 'is'},\n",
              " {'Tf_Score': 0.125, 'doc_id': 0, 'key': 'a'},\n",
              " {'Tf_Score': 0.125, 'doc_id': 0, 'key': 'huge'},\n",
              " {'Tf_Score': 0.125, 'doc_id': 0, 'key': 'ball'},\n",
              " {'Tf_Score': 0.125, 'doc_id': 0, 'key': 'of'},\n",
              " {'Tf_Score': 0.125, 'doc_id': 0, 'key': 'gases'},\n",
              " {'Tf_Score': 0.16666666666666666, 'doc_id': 1, 'key': 'it'},\n",
              " {'Tf_Score': 0.16666666666666666, 'doc_id': 1, 'key': 'has'},\n",
              " {'Tf_Score': 0.16666666666666666, 'doc_id': 1, 'key': 'a'},\n",
              " {'Tf_Score': 0.16666666666666666, 'doc_id': 1, 'key': 'diameter'},\n",
              " {'Tf_Score': 0.16666666666666666, 'doc_id': 1, 'key': 'of'},\n",
              " {'Tf_Score': 0.16666666666666666, 'doc_id': 1, 'key': 'km'},\n",
              " {'Tf_Score': 0.23076923076923078, 'doc_id': 2, 'key': 'it'},\n",
              " {'Tf_Score': 0.07692307692307693, 'doc_id': 2, 'key': 'is'},\n",
              " {'Tf_Score': 0.07692307692307693, 'doc_id': 2, 'key': 'so'},\n",
              " {'Tf_Score': 0.07692307692307693, 'doc_id': 2, 'key': 'huge'},\n",
              " {'Tf_Score': 0.07692307692307693, 'doc_id': 2, 'key': 'that'},\n",
              " {'Tf_Score': 0.07692307692307693, 'doc_id': 2, 'key': 'can'},\n",
              " {'Tf_Score': 0.07692307692307693, 'doc_id': 2, 'key': 'hold'},\n",
              " {'Tf_Score': 0.07692307692307693, 'doc_id': 2, 'key': 'millions'},\n",
              " {'Tf_Score': 0.07692307692307693, 'doc_id': 2, 'key': 'of'},\n",
              " {'Tf_Score': 0.07692307692307693, 'doc_id': 2, 'key': 'planets'},\n",
              " {'Tf_Score': 0.07692307692307693, 'doc_id': 2, 'key': 'inside'},\n",
              " {'Tf_Score': 0.09090909090909091, 'doc_id': 3, 'key': 'the'},\n",
              " {'Tf_Score': 0.09090909090909091, 'doc_id': 3, 'key': 'sun'},\n",
              " {'Tf_Score': 0.09090909090909091, 'doc_id': 3, 'key': 'is'},\n",
              " {'Tf_Score': 0.09090909090909091, 'doc_id': 3, 'key': 'mainly'},\n",
              " {'Tf_Score': 0.09090909090909091, 'doc_id': 3, 'key': 'made'},\n",
              " {'Tf_Score': 0.09090909090909091, 'doc_id': 3, 'key': 'up'},\n",
              " {'Tf_Score': 0.09090909090909091, 'doc_id': 3, 'key': 'of'},\n",
              " {'Tf_Score': 0.09090909090909091, 'doc_id': 3, 'key': 'hydrogen'},\n",
              " {'Tf_Score': 0.09090909090909091, 'doc_id': 3, 'key': 'and'},\n",
              " {'Tf_Score': 0.09090909090909091, 'doc_id': 3, 'key': 'helium'},\n",
              " {'Tf_Score': 0.09090909090909091, 'doc_id': 3, 'key': 'gas'},\n",
              " {'Tf_Score': 0.3, 'doc_id': 4, 'key': 'the'},\n",
              " {'Tf_Score': 0.1, 'doc_id': 4, 'key': 'surface'},\n",
              " {'Tf_Score': 0.1, 'doc_id': 4, 'key': 'of'},\n",
              " {'Tf_Score': 0.1, 'doc_id': 4, 'key': 'sun'},\n",
              " {'Tf_Score': 0.1, 'doc_id': 4, 'key': 'is'},\n",
              " {'Tf_Score': 0.1, 'doc_id': 4, 'key': 'known'},\n",
              " {'Tf_Score': 0.1, 'doc_id': 4, 'key': 'as'},\n",
              " {'Tf_Score': 0.1, 'doc_id': 4, 'key': 'photosphere'},\n",
              " {'Tf_Score': 0.14285714285714285, 'doc_id': 5, 'key': 'the'},\n",
              " {'Tf_Score': 0.07142857142857142, 'doc_id': 5, 'key': 'photosphere'},\n",
              " {'Tf_Score': 0.07142857142857142, 'doc_id': 5, 'key': 'is'},\n",
              " {'Tf_Score': 0.07142857142857142, 'doc_id': 5, 'key': 'surrounded'},\n",
              " {'Tf_Score': 0.07142857142857142, 'doc_id': 5, 'key': 'by'},\n",
              " {'Tf_Score': 0.07142857142857142, 'doc_id': 5, 'key': 'a'},\n",
              " {'Tf_Score': 0.07142857142857142, 'doc_id': 5, 'key': 'thin'},\n",
              " {'Tf_Score': 0.07142857142857142, 'doc_id': 5, 'key': 'layer'},\n",
              " {'Tf_Score': 0.07142857142857142, 'doc_id': 5, 'key': 'of'},\n",
              " {'Tf_Score': 0.07142857142857142, 'doc_id': 5, 'key': 'gas'},\n",
              " {'Tf_Score': 0.07142857142857142, 'doc_id': 5, 'key': 'known'},\n",
              " {'Tf_Score': 0.07142857142857142, 'doc_id': 5, 'key': 'as'},\n",
              " {'Tf_Score': 0.07142857142857142, 'doc_id': 5, 'key': 'chromospheres'},\n",
              " {'Tf_Score': 0.1, 'doc_id': 6, 'key': 'without'},\n",
              " {'Tf_Score': 0.1, 'doc_id': 6, 'key': 'the'},\n",
              " {'Tf_Score': 0.1, 'doc_id': 6, 'key': 'sun'},\n",
              " {'Tf_Score': 0.1, 'doc_id': 6, 'key': 'there'},\n",
              " {'Tf_Score': 0.1, 'doc_id': 6, 'key': 'would'},\n",
              " {'Tf_Score': 0.1, 'doc_id': 6, 'key': 'be'},\n",
              " {'Tf_Score': 0.1, 'doc_id': 6, 'key': 'no'},\n",
              " {'Tf_Score': 0.1, 'doc_id': 6, 'key': 'life'},\n",
              " {'Tf_Score': 0.1, 'doc_id': 6, 'key': 'on'},\n",
              " {'Tf_Score': 0.1, 'doc_id': 6, 'key': 'earth'},\n",
              " {'Tf_Score': 0.09090909090909091, 'doc_id': 7, 'key': 'there'},\n",
              " {'Tf_Score': 0.09090909090909091, 'doc_id': 7, 'key': 'would'},\n",
              " {'Tf_Score': 0.09090909090909091, 'doc_id': 7, 'key': 'be'},\n",
              " {'Tf_Score': 0.2727272727272727, 'doc_id': 7, 'key': 'no'},\n",
              " {'Tf_Score': 0.09090909090909091, 'doc_id': 7, 'key': 'plants'},\n",
              " {'Tf_Score': 0.09090909090909091, 'doc_id': 7, 'key': 'animals'},\n",
              " {'Tf_Score': 0.09090909090909091, 'doc_id': 7, 'key': 'and'},\n",
              " {'Tf_Score': 0.09090909090909091, 'doc_id': 7, 'key': 'human'},\n",
              " {'Tf_Score': 0.09090909090909091, 'doc_id': 7, 'key': 'beings'},\n",
              " {'Tf_Score': 0.0625, 'doc_id': 8, 'key': 'as'},\n",
              " {'Tf_Score': 0.0625, 'doc_id': 8, 'key': 'all'},\n",
              " {'Tf_Score': 0.125, 'doc_id': 8, 'key': 'the'},\n",
              " {'Tf_Score': 0.0625, 'doc_id': 8, 'key': 'living'},\n",
              " {'Tf_Score': 0.0625, 'doc_id': 8, 'key': 'things'},\n",
              " {'Tf_Score': 0.0625, 'doc_id': 8, 'key': 'on'},\n",
              " {'Tf_Score': 0.0625, 'doc_id': 8, 'key': 'earth'},\n",
              " {'Tf_Score': 0.0625, 'doc_id': 8, 'key': 'get'},\n",
              " {'Tf_Score': 0.125, 'doc_id': 8, 'key': 'their'},\n",
              " {'Tf_Score': 0.0625, 'doc_id': 8, 'key': 'energy'},\n",
              " {'Tf_Score': 0.0625, 'doc_id': 8, 'key': 'from'},\n",
              " {'Tf_Score': 0.0625, 'doc_id': 8, 'key': 'sun'},\n",
              " {'Tf_Score': 0.0625, 'doc_id': 8, 'key': 'for'},\n",
              " {'Tf_Score': 0.0625, 'doc_id': 8, 'key': 'survival'}]"
            ]
          },
          "metadata": {
            "tags": []
          },
          "execution_count": 66
        }
      ]
    },
    {
      "cell_type": "markdown",
      "metadata": {
        "id": "9T1YkA084sdG",
        "colab_type": "text"
      },
      "source": [
        "## Calculating Idf {Inverse Document Frequency}\n",
        "#### idf= log( no of sentences / number of sentences containing the word)"
      ]
    },
    {
      "cell_type": "code",
      "metadata": {
        "id": "RQHt2qdjxoUF",
        "colab_type": "code",
        "colab": {}
      },
      "source": [
        "idf_score=[]\n",
        "for temp_dict in frequency_dict_list:\n",
        "  uid=temp_dict['doc_id']\n",
        "  for k in temp_dict['frequency_dict']:\n",
        "    count=sum(k in temp_dict['frequency_dict'] for temp_dict in frequency_dict_list)\n",
        "    temp={'doc_id':uid,'Idf_Score':math.log(len(doc_info)/count),'key':k}\n",
        "    idf_score.append(temp)"
      ],
      "execution_count": 0,
      "outputs": []
    },
    {
      "cell_type": "code",
      "metadata": {
        "id": "1BvdRQKd89-r",
        "colab_type": "code",
        "colab": {
          "base_uri": "https://localhost:8080/",
          "height": 1000
        },
        "outputId": "a4edd99d-5a94-4bbd-f4c6-98b4af80d82b"
      },
      "source": [
        "idf_score"
      ],
      "execution_count": 68,
      "outputs": [
        {
          "output_type": "execute_result",
          "data": {
            "text/plain": [
              "[{'Idf_Score': 0.4054651081081644, 'doc_id': 0, 'key': 'the'},\n",
              " {'Idf_Score': 0.5877866649021191, 'doc_id': 0, 'key': 'sun'},\n",
              " {'Idf_Score': 0.5877866649021191, 'doc_id': 0, 'key': 'is'},\n",
              " {'Idf_Score': 1.0986122886681098, 'doc_id': 0, 'key': 'a'},\n",
              " {'Idf_Score': 1.5040773967762742, 'doc_id': 0, 'key': 'huge'},\n",
              " {'Idf_Score': 2.1972245773362196, 'doc_id': 0, 'key': 'ball'},\n",
              " {'Idf_Score': 0.4054651081081644, 'doc_id': 0, 'key': 'of'},\n",
              " {'Idf_Score': 2.1972245773362196, 'doc_id': 0, 'key': 'gases'},\n",
              " {'Idf_Score': 1.5040773967762742, 'doc_id': 1, 'key': 'it'},\n",
              " {'Idf_Score': 2.1972245773362196, 'doc_id': 1, 'key': 'has'},\n",
              " {'Idf_Score': 1.0986122886681098, 'doc_id': 1, 'key': 'a'},\n",
              " {'Idf_Score': 2.1972245773362196, 'doc_id': 1, 'key': 'diameter'},\n",
              " {'Idf_Score': 0.4054651081081644, 'doc_id': 1, 'key': 'of'},\n",
              " {'Idf_Score': 2.1972245773362196, 'doc_id': 1, 'key': 'km'},\n",
              " {'Idf_Score': 1.5040773967762742, 'doc_id': 2, 'key': 'it'},\n",
              " {'Idf_Score': 0.5877866649021191, 'doc_id': 2, 'key': 'is'},\n",
              " {'Idf_Score': 2.1972245773362196, 'doc_id': 2, 'key': 'so'},\n",
              " {'Idf_Score': 1.5040773967762742, 'doc_id': 2, 'key': 'huge'},\n",
              " {'Idf_Score': 2.1972245773362196, 'doc_id': 2, 'key': 'that'},\n",
              " {'Idf_Score': 2.1972245773362196, 'doc_id': 2, 'key': 'can'},\n",
              " {'Idf_Score': 2.1972245773362196, 'doc_id': 2, 'key': 'hold'},\n",
              " {'Idf_Score': 2.1972245773362196, 'doc_id': 2, 'key': 'millions'},\n",
              " {'Idf_Score': 0.4054651081081644, 'doc_id': 2, 'key': 'of'},\n",
              " {'Idf_Score': 2.1972245773362196, 'doc_id': 2, 'key': 'planets'},\n",
              " {'Idf_Score': 2.1972245773362196, 'doc_id': 2, 'key': 'inside'},\n",
              " {'Idf_Score': 0.4054651081081644, 'doc_id': 3, 'key': 'the'},\n",
              " {'Idf_Score': 0.5877866649021191, 'doc_id': 3, 'key': 'sun'},\n",
              " {'Idf_Score': 0.5877866649021191, 'doc_id': 3, 'key': 'is'},\n",
              " {'Idf_Score': 2.1972245773362196, 'doc_id': 3, 'key': 'mainly'},\n",
              " {'Idf_Score': 2.1972245773362196, 'doc_id': 3, 'key': 'made'},\n",
              " {'Idf_Score': 2.1972245773362196, 'doc_id': 3, 'key': 'up'},\n",
              " {'Idf_Score': 0.4054651081081644, 'doc_id': 3, 'key': 'of'},\n",
              " {'Idf_Score': 2.1972245773362196, 'doc_id': 3, 'key': 'hydrogen'},\n",
              " {'Idf_Score': 1.5040773967762742, 'doc_id': 3, 'key': 'and'},\n",
              " {'Idf_Score': 2.1972245773362196, 'doc_id': 3, 'key': 'helium'},\n",
              " {'Idf_Score': 1.5040773967762742, 'doc_id': 3, 'key': 'gas'},\n",
              " {'Idf_Score': 0.4054651081081644, 'doc_id': 4, 'key': 'the'},\n",
              " {'Idf_Score': 2.1972245773362196, 'doc_id': 4, 'key': 'surface'},\n",
              " {'Idf_Score': 0.4054651081081644, 'doc_id': 4, 'key': 'of'},\n",
              " {'Idf_Score': 0.5877866649021191, 'doc_id': 4, 'key': 'sun'},\n",
              " {'Idf_Score': 0.5877866649021191, 'doc_id': 4, 'key': 'is'},\n",
              " {'Idf_Score': 1.5040773967762742, 'doc_id': 4, 'key': 'known'},\n",
              " {'Idf_Score': 1.0986122886681098, 'doc_id': 4, 'key': 'as'},\n",
              " {'Idf_Score': 1.5040773967762742, 'doc_id': 4, 'key': 'photosphere'},\n",
              " {'Idf_Score': 0.4054651081081644, 'doc_id': 5, 'key': 'the'},\n",
              " {'Idf_Score': 1.5040773967762742, 'doc_id': 5, 'key': 'photosphere'},\n",
              " {'Idf_Score': 0.5877866649021191, 'doc_id': 5, 'key': 'is'},\n",
              " {'Idf_Score': 2.1972245773362196, 'doc_id': 5, 'key': 'surrounded'},\n",
              " {'Idf_Score': 2.1972245773362196, 'doc_id': 5, 'key': 'by'},\n",
              " {'Idf_Score': 1.0986122886681098, 'doc_id': 5, 'key': 'a'},\n",
              " {'Idf_Score': 2.1972245773362196, 'doc_id': 5, 'key': 'thin'},\n",
              " {'Idf_Score': 2.1972245773362196, 'doc_id': 5, 'key': 'layer'},\n",
              " {'Idf_Score': 0.4054651081081644, 'doc_id': 5, 'key': 'of'},\n",
              " {'Idf_Score': 1.5040773967762742, 'doc_id': 5, 'key': 'gas'},\n",
              " {'Idf_Score': 1.5040773967762742, 'doc_id': 5, 'key': 'known'},\n",
              " {'Idf_Score': 1.0986122886681098, 'doc_id': 5, 'key': 'as'},\n",
              " {'Idf_Score': 2.1972245773362196, 'doc_id': 5, 'key': 'chromospheres'},\n",
              " {'Idf_Score': 2.1972245773362196, 'doc_id': 6, 'key': 'without'},\n",
              " {'Idf_Score': 0.4054651081081644, 'doc_id': 6, 'key': 'the'},\n",
              " {'Idf_Score': 0.5877866649021191, 'doc_id': 6, 'key': 'sun'},\n",
              " {'Idf_Score': 1.5040773967762742, 'doc_id': 6, 'key': 'there'},\n",
              " {'Idf_Score': 1.5040773967762742, 'doc_id': 6, 'key': 'would'},\n",
              " {'Idf_Score': 1.5040773967762742, 'doc_id': 6, 'key': 'be'},\n",
              " {'Idf_Score': 1.5040773967762742, 'doc_id': 6, 'key': 'no'},\n",
              " {'Idf_Score': 2.1972245773362196, 'doc_id': 6, 'key': 'life'},\n",
              " {'Idf_Score': 1.5040773967762742, 'doc_id': 6, 'key': 'on'},\n",
              " {'Idf_Score': 1.5040773967762742, 'doc_id': 6, 'key': 'earth'},\n",
              " {'Idf_Score': 1.5040773967762742, 'doc_id': 7, 'key': 'there'},\n",
              " {'Idf_Score': 1.5040773967762742, 'doc_id': 7, 'key': 'would'},\n",
              " {'Idf_Score': 1.5040773967762742, 'doc_id': 7, 'key': 'be'},\n",
              " {'Idf_Score': 1.5040773967762742, 'doc_id': 7, 'key': 'no'},\n",
              " {'Idf_Score': 2.1972245773362196, 'doc_id': 7, 'key': 'plants'},\n",
              " {'Idf_Score': 2.1972245773362196, 'doc_id': 7, 'key': 'animals'},\n",
              " {'Idf_Score': 1.5040773967762742, 'doc_id': 7, 'key': 'and'},\n",
              " {'Idf_Score': 2.1972245773362196, 'doc_id': 7, 'key': 'human'},\n",
              " {'Idf_Score': 2.1972245773362196, 'doc_id': 7, 'key': 'beings'},\n",
              " {'Idf_Score': 1.0986122886681098, 'doc_id': 8, 'key': 'as'},\n",
              " {'Idf_Score': 2.1972245773362196, 'doc_id': 8, 'key': 'all'},\n",
              " {'Idf_Score': 0.4054651081081644, 'doc_id': 8, 'key': 'the'},\n",
              " {'Idf_Score': 2.1972245773362196, 'doc_id': 8, 'key': 'living'},\n",
              " {'Idf_Score': 2.1972245773362196, 'doc_id': 8, 'key': 'things'},\n",
              " {'Idf_Score': 1.5040773967762742, 'doc_id': 8, 'key': 'on'},\n",
              " {'Idf_Score': 1.5040773967762742, 'doc_id': 8, 'key': 'earth'},\n",
              " {'Idf_Score': 2.1972245773362196, 'doc_id': 8, 'key': 'get'},\n",
              " {'Idf_Score': 2.1972245773362196, 'doc_id': 8, 'key': 'their'},\n",
              " {'Idf_Score': 2.1972245773362196, 'doc_id': 8, 'key': 'energy'},\n",
              " {'Idf_Score': 2.1972245773362196, 'doc_id': 8, 'key': 'from'},\n",
              " {'Idf_Score': 0.5877866649021191, 'doc_id': 8, 'key': 'sun'},\n",
              " {'Idf_Score': 2.1972245773362196, 'doc_id': 8, 'key': 'for'},\n",
              " {'Idf_Score': 2.1972245773362196, 'doc_id': 8, 'key': 'survival'}]"
            ]
          },
          "metadata": {
            "tags": []
          },
          "execution_count": 68
        }
      ]
    },
    {
      "cell_type": "markdown",
      "metadata": {
        "id": "U-wkwaOU9grQ",
        "colab_type": "text"
      },
      "source": [
        "## Calculating TF-IDF value\n",
        "#### tfidf= tf-value * idf-value"
      ]
    },
    {
      "cell_type": "code",
      "metadata": {
        "id": "oJIYoNTH9e2t",
        "colab_type": "code",
        "colab": {}
      },
      "source": [
        "tfidf_score=[]\n",
        "for i in tf_score:\n",
        "  for j in idf_score:\n",
        "    if j['key']==i['key'] and j['doc_id']==i['doc_id']:\n",
        "      value=i['Tf_Score']*j['Idf_Score']\n",
        "      temp={'doc_id':j['doc_id'],'TfIdf_Score':value,'key':j['key']}\n",
        "      break\n",
        "  tfidf_score.append(temp)"
      ],
      "execution_count": 0,
      "outputs": []
    },
    {
      "cell_type": "code",
      "metadata": {
        "id": "OG-XnG6Y_rZj",
        "colab_type": "code",
        "colab": {
          "base_uri": "https://localhost:8080/",
          "height": 1000
        },
        "outputId": "b6ee8e87-219f-43b6-b7bf-48affb146f23"
      },
      "source": [
        "tfidf_score"
      ],
      "execution_count": 70,
      "outputs": [
        {
          "output_type": "execute_result",
          "data": {
            "text/plain": [
              "[{'TfIdf_Score': 0.05068313851352055, 'doc_id': 0, 'key': 'the'},\n",
              " {'TfIdf_Score': 0.07347333311276488, 'doc_id': 0, 'key': 'sun'},\n",
              " {'TfIdf_Score': 0.07347333311276488, 'doc_id': 0, 'key': 'is'},\n",
              " {'TfIdf_Score': 0.13732653608351372, 'doc_id': 0, 'key': 'a'},\n",
              " {'TfIdf_Score': 0.18800967459703427, 'doc_id': 0, 'key': 'huge'},\n",
              " {'TfIdf_Score': 0.27465307216702745, 'doc_id': 0, 'key': 'ball'},\n",
              " {'TfIdf_Score': 0.05068313851352055, 'doc_id': 0, 'key': 'of'},\n",
              " {'TfIdf_Score': 0.27465307216702745, 'doc_id': 0, 'key': 'gases'},\n",
              " {'TfIdf_Score': 0.25067956612937903, 'doc_id': 1, 'key': 'it'},\n",
              " {'TfIdf_Score': 0.3662040962227032, 'doc_id': 1, 'key': 'has'},\n",
              " {'TfIdf_Score': 0.1831020481113516, 'doc_id': 1, 'key': 'a'},\n",
              " {'TfIdf_Score': 0.3662040962227032, 'doc_id': 1, 'key': 'diameter'},\n",
              " {'TfIdf_Score': 0.06757751801802739, 'doc_id': 1, 'key': 'of'},\n",
              " {'TfIdf_Score': 0.3662040962227032, 'doc_id': 1, 'key': 'km'},\n",
              " {'TfIdf_Score': 0.34709478387144793, 'doc_id': 2, 'key': 'it'},\n",
              " {'TfIdf_Score': 0.04521435883862455, 'doc_id': 2, 'key': 'is'},\n",
              " {'TfIdf_Score': 0.16901727517970921, 'doc_id': 2, 'key': 'so'},\n",
              " {'TfIdf_Score': 0.11569826129048263, 'doc_id': 2, 'key': 'huge'},\n",
              " {'TfIdf_Score': 0.16901727517970921, 'doc_id': 2, 'key': 'that'},\n",
              " {'TfIdf_Score': 0.16901727517970921, 'doc_id': 2, 'key': 'can'},\n",
              " {'TfIdf_Score': 0.16901727517970921, 'doc_id': 2, 'key': 'hold'},\n",
              " {'TfIdf_Score': 0.16901727517970921, 'doc_id': 2, 'key': 'millions'},\n",
              " {'TfIdf_Score': 0.03118962370062803, 'doc_id': 2, 'key': 'of'},\n",
              " {'TfIdf_Score': 0.16901727517970921, 'doc_id': 2, 'key': 'planets'},\n",
              " {'TfIdf_Score': 0.16901727517970921, 'doc_id': 2, 'key': 'inside'},\n",
              " {'TfIdf_Score': 0.036860464373469494, 'doc_id': 3, 'key': 'the'},\n",
              " {'TfIdf_Score': 0.0534351513547381, 'doc_id': 3, 'key': 'sun'},\n",
              " {'TfIdf_Score': 0.0534351513547381, 'doc_id': 3, 'key': 'is'},\n",
              " {'TfIdf_Score': 0.19974768884874725, 'doc_id': 3, 'key': 'mainly'},\n",
              " {'TfIdf_Score': 0.19974768884874725, 'doc_id': 3, 'key': 'made'},\n",
              " {'TfIdf_Score': 0.19974768884874725, 'doc_id': 3, 'key': 'up'},\n",
              " {'TfIdf_Score': 0.036860464373469494, 'doc_id': 3, 'key': 'of'},\n",
              " {'TfIdf_Score': 0.19974768884874725, 'doc_id': 3, 'key': 'hydrogen'},\n",
              " {'TfIdf_Score': 0.13673430879784312, 'doc_id': 3, 'key': 'and'},\n",
              " {'TfIdf_Score': 0.19974768884874725, 'doc_id': 3, 'key': 'helium'},\n",
              " {'TfIdf_Score': 0.13673430879784312, 'doc_id': 3, 'key': 'gas'},\n",
              " {'TfIdf_Score': 0.12163953243244931, 'doc_id': 4, 'key': 'the'},\n",
              " {'TfIdf_Score': 0.21972245773362198, 'doc_id': 4, 'key': 'surface'},\n",
              " {'TfIdf_Score': 0.04054651081081644, 'doc_id': 4, 'key': 'of'},\n",
              " {'TfIdf_Score': 0.058778666490211906, 'doc_id': 4, 'key': 'sun'},\n",
              " {'TfIdf_Score': 0.058778666490211906, 'doc_id': 4, 'key': 'is'},\n",
              " {'TfIdf_Score': 0.15040773967762744, 'doc_id': 4, 'key': 'known'},\n",
              " {'TfIdf_Score': 0.10986122886681099, 'doc_id': 4, 'key': 'as'},\n",
              " {'TfIdf_Score': 0.15040773967762744, 'doc_id': 4, 'key': 'photosphere'},\n",
              " {'TfIdf_Score': 0.05792358687259491, 'doc_id': 5, 'key': 'the'},\n",
              " {'TfIdf_Score': 0.10743409976973387, 'doc_id': 5, 'key': 'photosphere'},\n",
              " {'TfIdf_Score': 0.04198476177872279, 'doc_id': 5, 'key': 'is'},\n",
              " {'TfIdf_Score': 0.15694461266687282, 'doc_id': 5, 'key': 'surrounded'},\n",
              " {'TfIdf_Score': 0.15694461266687282, 'doc_id': 5, 'key': 'by'},\n",
              " {'TfIdf_Score': 0.07847230633343641, 'doc_id': 5, 'key': 'a'},\n",
              " {'TfIdf_Score': 0.15694461266687282, 'doc_id': 5, 'key': 'thin'},\n",
              " {'TfIdf_Score': 0.15694461266687282, 'doc_id': 5, 'key': 'layer'},\n",
              " {'TfIdf_Score': 0.028961793436297456, 'doc_id': 5, 'key': 'of'},\n",
              " {'TfIdf_Score': 0.10743409976973387, 'doc_id': 5, 'key': 'gas'},\n",
              " {'TfIdf_Score': 0.10743409976973387, 'doc_id': 5, 'key': 'known'},\n",
              " {'TfIdf_Score': 0.07847230633343641, 'doc_id': 5, 'key': 'as'},\n",
              " {'TfIdf_Score': 0.15694461266687282, 'doc_id': 5, 'key': 'chromospheres'},\n",
              " {'TfIdf_Score': 0.21972245773362198, 'doc_id': 6, 'key': 'without'},\n",
              " {'TfIdf_Score': 0.04054651081081644, 'doc_id': 6, 'key': 'the'},\n",
              " {'TfIdf_Score': 0.058778666490211906, 'doc_id': 6, 'key': 'sun'},\n",
              " {'TfIdf_Score': 0.15040773967762744, 'doc_id': 6, 'key': 'there'},\n",
              " {'TfIdf_Score': 0.15040773967762744, 'doc_id': 6, 'key': 'would'},\n",
              " {'TfIdf_Score': 0.15040773967762744, 'doc_id': 6, 'key': 'be'},\n",
              " {'TfIdf_Score': 0.15040773967762744, 'doc_id': 6, 'key': 'no'},\n",
              " {'TfIdf_Score': 0.21972245773362198, 'doc_id': 6, 'key': 'life'},\n",
              " {'TfIdf_Score': 0.15040773967762744, 'doc_id': 6, 'key': 'on'},\n",
              " {'TfIdf_Score': 0.15040773967762744, 'doc_id': 6, 'key': 'earth'},\n",
              " {'TfIdf_Score': 0.13673430879784312, 'doc_id': 7, 'key': 'there'},\n",
              " {'TfIdf_Score': 0.13673430879784312, 'doc_id': 7, 'key': 'would'},\n",
              " {'TfIdf_Score': 0.13673430879784312, 'doc_id': 7, 'key': 'be'},\n",
              " {'TfIdf_Score': 0.4102029263935293, 'doc_id': 7, 'key': 'no'},\n",
              " {'TfIdf_Score': 0.19974768884874725, 'doc_id': 7, 'key': 'plants'},\n",
              " {'TfIdf_Score': 0.19974768884874725, 'doc_id': 7, 'key': 'animals'},\n",
              " {'TfIdf_Score': 0.13673430879784312, 'doc_id': 7, 'key': 'and'},\n",
              " {'TfIdf_Score': 0.19974768884874725, 'doc_id': 7, 'key': 'human'},\n",
              " {'TfIdf_Score': 0.19974768884874725, 'doc_id': 7, 'key': 'beings'},\n",
              " {'TfIdf_Score': 0.06866326804175686, 'doc_id': 8, 'key': 'as'},\n",
              " {'TfIdf_Score': 0.13732653608351372, 'doc_id': 8, 'key': 'all'},\n",
              " {'TfIdf_Score': 0.05068313851352055, 'doc_id': 8, 'key': 'the'},\n",
              " {'TfIdf_Score': 0.13732653608351372, 'doc_id': 8, 'key': 'living'},\n",
              " {'TfIdf_Score': 0.13732653608351372, 'doc_id': 8, 'key': 'things'},\n",
              " {'TfIdf_Score': 0.09400483729851714, 'doc_id': 8, 'key': 'on'},\n",
              " {'TfIdf_Score': 0.09400483729851714, 'doc_id': 8, 'key': 'earth'},\n",
              " {'TfIdf_Score': 0.13732653608351372, 'doc_id': 8, 'key': 'get'},\n",
              " {'TfIdf_Score': 0.27465307216702745, 'doc_id': 8, 'key': 'their'},\n",
              " {'TfIdf_Score': 0.13732653608351372, 'doc_id': 8, 'key': 'energy'},\n",
              " {'TfIdf_Score': 0.13732653608351372, 'doc_id': 8, 'key': 'from'},\n",
              " {'TfIdf_Score': 0.03673666655638244, 'doc_id': 8, 'key': 'sun'},\n",
              " {'TfIdf_Score': 0.13732653608351372, 'doc_id': 8, 'key': 'for'},\n",
              " {'TfIdf_Score': 0.13732653608351372, 'doc_id': 8, 'key': 'survival'}]"
            ]
          },
          "metadata": {
            "tags": []
          },
          "execution_count": 70
        }
      ]
    }
  ]
}