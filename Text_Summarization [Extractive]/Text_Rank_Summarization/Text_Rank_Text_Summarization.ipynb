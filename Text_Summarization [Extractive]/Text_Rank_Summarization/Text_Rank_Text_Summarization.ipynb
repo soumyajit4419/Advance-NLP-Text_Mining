{
  "nbformat": 4,
  "nbformat_minor": 0,
  "metadata": {
    "colab": {
      "name": "Text_Rank_Text_Summarization.ipynb",
      "provenance": [],
      "collapsed_sections": []
    },
    "kernelspec": {
      "name": "python3",
      "display_name": "Python 3"
    }
  },
  "cells": [
    {
      "cell_type": "markdown",
      "metadata": {
        "id": "jHHuAEXVUVYH",
        "colab_type": "text"
      },
      "source": [
        "# Text Summarization using Text-Rank Algorithm"
      ]
    },
    {
      "cell_type": "code",
      "metadata": {
        "id": "A6Ee5uG9Rw6o",
        "colab_type": "code",
        "colab": {}
      },
      "source": [
        "import numpy as np\n",
        "import matplotlib.pyplot as plt \n",
        "import pandas as pd"
      ],
      "execution_count": 0,
      "outputs": []
    },
    {
      "cell_type": "code",
      "metadata": {
        "id": "GjD_JALISDC1",
        "colab_type": "code",
        "colab": {}
      },
      "source": [
        "import nltk\n",
        "import re\n",
        "import operator"
      ],
      "execution_count": 0,
      "outputs": []
    },
    {
      "cell_type": "code",
      "metadata": {
        "id": "Xr6j_OALfZFI",
        "colab_type": "code",
        "colab": {}
      },
      "source": [
        "from sklearn.metrics.pairwise import cosine_similarity"
      ],
      "execution_count": 0,
      "outputs": []
    },
    {
      "cell_type": "code",
      "metadata": {
        "id": "GmtH8kh2tgOq",
        "colab_type": "code",
        "colab": {}
      },
      "source": [
        "import networkx as nx"
      ],
      "execution_count": 0,
      "outputs": []
    },
    {
      "cell_type": "code",
      "metadata": {
        "id": "ZEIiSRb_NQg5",
        "colab_type": "code",
        "colab": {}
      },
      "source": [
        "text= '''Those Who Are Resilient Stay In The Game Longer\n",
        "“On the mountains of truth you can never climb in vain: either you will reach a point higher up today, or you will be training your powers so that you will be able to climb higher tomorrow.” — Friedrich Nietzsche\n",
        "Challenges and setbacks are not meant to defeat you, but promote you. However, I realise after many years of defeats, it can crush your spirit and it is easier to give up than risk further setbacks and disappointments. Have you experienced this before? To be honest, I don’t have the answers. I can’t tell you what the right course of action is; only you will know. However, it’s important not to be discouraged by failure when pursuing a goal or a dream, since failure itself means different things to different people. To a person with a Fixed Mindset failure is a blow to their self-esteem, yet to a person with a Growth Mindset, it’s an opportunity to improve and find new ways to overcome their obstacles. Same failure, yet different responses. Who is right and who is wrong? Neither. Each person has a different mindset that decides their outcome. Those who are resilient stay in the game longer and draw on their inner means to succeed.\n",
        "I’ve coached mummy and mom clients who gave up after many years toiling away at their respective goal or dream. It was at that point their biggest breakthrough came. Perhaps all those years of perseverance finally paid off. It was the 19th Century’s minister Henry Ward Beecher who once said: “One’s best success comes after their greatest disappointments.” No one knows what the future holds, so your only guide is whether you can endure repeated defeats and disappointments and still pursue your dream. Consider the advice from the American academic and psychologist Angela Duckworth who writes in Grit: The Power of Passion and Perseverance: “Many of us, it seems, quit what we start far too early and far too often. Even more than the effort a gritty person puts in on a single day, what matters is that they wake up the next day, and the next, ready to get on that treadmill and keep going.”\n",
        "I know one thing for certain: don’t settle for less than what you’re capable of, but strive for something bigger. Some of you reading this might identify with this message because it resonates with you on a deeper level. For others, at the end of their tether the message might be nothing more than a trivial pep talk. What I wish to convey irrespective of where you are in your journey is: NEVER settle for less. If you settle for less, you will receive less than you deserve and convince yourself you are justified to receive it.\n",
        "“Two people on a precipice over Yosemite Valley” by Nathan Shipps\n",
        "Develop A Powerful Vision Of What You Want\n",
        "“Your problem is to bridge the gap which exists between where you are now and the goal you intend to reach.” — Earl Nightingale\n",
        "I recall a passage my father often used growing up in 1990s: “Don’t tell me your problems unless you’ve spent weeks trying to solve them yourself.” That advice has echoed in my mind for decades and became my motivator. Don’t leave it to other people or outside circumstances to motivate you because you will be let down every time. It must come from within you. Gnaw away at your problems until you solve them or find a solution. Problems are not stop signs, they are advising you that more work is required to overcome them. Most times, problems help you gain a skill or develop the resources to succeed later. So embrace your challenges and develop the grit to push past them instead of retreat in resignation. Where are you settling in your life right now? Could you be you playing for bigger stakes than you are? Are you willing to play bigger even if it means repeated failures and setbacks? You should ask yourself these questions to decide whether you’re willing to put yourself on the line or settle for less. And that’s fine if you’re content to receive less, as long as you’re not regretful later.\n",
        "If you have not achieved the success you deserve and are considering giving up, will you regret it in a few years or decades from now? Only you can answer that, but you should carve out time to discover your motivation for pursuing your goals. It’s a fact, if you don’t know what you want you’ll get what life hands you and it may not be in your best interest, affirms author Larry Weidel: “Winners know that if you don’t figure out what you want, you’ll get whatever life hands you.” The key is to develop a powerful vision of what you want and hold that image in your mind. Nurture it daily and give it life by taking purposeful action towards it.\n",
        "Vision + desire + dedication + patience + daily action leads to astonishing success. Are you willing to commit to this way of life or jump ship at the first sign of failure? I’m amused when I read questions written by millennials on Quora who ask how they can become rich and famous or the next Elon Musk. Success is a fickle and long game with highs and lows. Similarly, there are no assurances even if you’re an overnight sensation, to sustain it for long, particularly if you don’t have the mental and emotional means to endure it. This means you must rely on the one true constant in your favour: your personal development. The more you grow, the more you gain in terms of financial resources, status, success — simple. If you leave it to outside conditions to dictate your circumstances, you are rolling the dice on your future.\n",
        "So become intentional on what you want out of life. Commit to it. Nurture your dreams. Focus on your development and if you want to give up, know what’s involved before you take the plunge. Because I assure you, someone out there right now is working harder than you, reading more books, sleeping less and sacrificing all they have to realise their dreams and it may contest with yours. Don’t leave your dreams to chance.\n",
        "'''"
      ],
      "execution_count": 0,
      "outputs": []
    },
    {
      "cell_type": "markdown",
      "metadata": {
        "id": "SEorVg6SUQcZ",
        "colab_type": "text"
      },
      "source": [
        "## Spliting Text Into Sentences"
      ]
    },
    {
      "cell_type": "code",
      "metadata": {
        "id": "2myNE-27SEZj",
        "colab_type": "code",
        "colab": {}
      },
      "source": [
        "sentences =nltk.sent_tokenize(text)"
      ],
      "execution_count": 0,
      "outputs": []
    },
    {
      "cell_type": "code",
      "metadata": {
        "id": "-tWhSBzWUb84",
        "colab_type": "code",
        "colab": {}
      },
      "source": [
        "def clean_sent(a):\n",
        "  sent=re.sub('[^a-zA-Z]',' ',a)\n",
        "  sent=sent.lower()\n",
        "  sent=sent.strip()\n",
        "  return sent"
      ],
      "execution_count": 0,
      "outputs": []
    },
    {
      "cell_type": "markdown",
      "metadata": {
        "id": "ULUqoOCwV48_",
        "colab_type": "text"
      },
      "source": [
        "## Cleaning Sentences"
      ]
    },
    {
      "cell_type": "code",
      "metadata": {
        "id": "RtyIO80SVDvx",
        "colab_type": "code",
        "colab": {}
      },
      "source": [
        "new_sent=[]\n",
        "for i in sentences:\n",
        "  x=clean_sent(i)\n",
        "  new_sent.append(x)"
      ],
      "execution_count": 0,
      "outputs": []
    },
    {
      "cell_type": "code",
      "metadata": {
        "id": "pXjCzvO1V8kK",
        "colab_type": "code",
        "outputId": "9f5a90d4-2263-4c87-8107-b66e9b964647",
        "colab": {
          "base_uri": "https://localhost:8080/",
          "height": 947
        }
      },
      "source": [
        "new_sent"
      ],
      "execution_count": 0,
      "outputs": [
        {
          "output_type": "execute_result",
          "data": {
            "text/plain": [
              "['those who are resilient stay in the game longer  on the mountains of truth you can never climb in vain  either you will reach a point higher up today  or you will be training your powers so that you will be able to climb higher tomorrow     friedrich nietzsche challenges and setbacks are not meant to defeat you  but promote you',\n",
              " 'however  i realise after many years of defeats  it can crush your spirit and it is easier to give up than risk further setbacks and disappointments',\n",
              " 'have you experienced this before',\n",
              " 'to be honest  i don t have the answers',\n",
              " 'i can t tell you what the right course of action is  only you will know',\n",
              " 'however  it s important not to be discouraged by failure when pursuing a goal or a dream  since failure itself means different things to different people',\n",
              " 'to a person with a fixed mindset failure is a blow to their self esteem  yet to a person with a growth mindset  it s an opportunity to improve and find new ways to overcome their obstacles',\n",
              " 'same failure  yet different responses',\n",
              " 'who is right and who is wrong',\n",
              " 'neither',\n",
              " 'each person has a different mindset that decides their outcome',\n",
              " 'those who are resilient stay in the game longer and draw on their inner means to succeed',\n",
              " 'i ve coached mummy and mom clients who gave up after many years toiling away at their respective goal or dream',\n",
              " 'it was at that point their biggest breakthrough came',\n",
              " 'perhaps all those years of perseverance finally paid off',\n",
              " 'it was the   th century s minister henry ward beecher who once said   one s best success comes after their greatest disappointments   no one knows what the future holds  so your only guide is whether you can endure repeated defeats and disappointments and still pursue your dream',\n",
              " 'consider the advice from the american academic and psychologist angela duckworth who writes in grit  the power of passion and perseverance   many of us  it seems  quit what we start far too early and far too often',\n",
              " 'even more than the effort a gritty person puts in on a single day  what matters is that they wake up the next day  and the next  ready to get on that treadmill and keep going   i know one thing for certain  don t settle for less than what you re capable of  but strive for something bigger',\n",
              " 'some of you reading this might identify with this message because it resonates with you on a deeper level',\n",
              " 'for others  at the end of their tether the message might be nothing more than a trivial pep talk',\n",
              " 'what i wish to convey irrespective of where you are in your journey is  never settle for less',\n",
              " 'if you settle for less  you will receive less than you deserve and convince yourself you are justified to receive it',\n",
              " 'two people on a precipice over yosemite valley  by nathan shipps develop a powerful vision of what you want  your problem is to bridge the gap which exists between where you are now and the goal you intend to reach     earl nightingale i recall a passage my father often used growing up in     s   don t tell me your problems unless you ve spent weeks trying to solve them yourself   that advice has echoed in my mind for decades and became my motivator',\n",
              " 'don t leave it to other people or outside circumstances to motivate you because you will be let down every time',\n",
              " 'it must come from within you',\n",
              " 'gnaw away at your problems until you solve them or find a solution',\n",
              " 'problems are not stop signs  they are advising you that more work is required to overcome them',\n",
              " 'most times  problems help you gain a skill or develop the resources to succeed later',\n",
              " 'so embrace your challenges and develop the grit to push past them instead of retreat in resignation',\n",
              " 'where are you settling in your life right now',\n",
              " 'could you be you playing for bigger stakes than you are',\n",
              " 'are you willing to play bigger even if it means repeated failures and setbacks',\n",
              " 'you should ask yourself these questions to decide whether you re willing to put yourself on the line or settle for less',\n",
              " 'and that s fine if you re content to receive less  as long as you re not regretful later',\n",
              " 'if you have not achieved the success you deserve and are considering giving up  will you regret it in a few years or decades from now',\n",
              " 'only you can answer that  but you should carve out time to discover your motivation for pursuing your goals',\n",
              " 'it s a fact  if you don t know what you want you ll get what life hands you and it may not be in your best interest  affirms author larry weidel   winners know that if you don t figure out what you want  you ll get whatever life hands you   the key is to develop a powerful vision of what you want and hold that image in your mind',\n",
              " 'nurture it daily and give it life by taking purposeful action towards it',\n",
              " 'vision   desire   dedication   patience   daily action leads to astonishing success',\n",
              " 'are you willing to commit to this way of life or jump ship at the first sign of failure',\n",
              " 'i m amused when i read questions written by millennials on quora who ask how they can become rich and famous or the next elon musk',\n",
              " 'success is a fickle and long game with highs and lows',\n",
              " 'similarly  there are no assurances even if you re an overnight sensation  to sustain it for long  particularly if you don t have the mental and emotional means to endure it',\n",
              " 'this means you must rely on the one true constant in your favour  your personal development',\n",
              " 'the more you grow  the more you gain in terms of financial resources  status  success   simple',\n",
              " 'if you leave it to outside conditions to dictate your circumstances  you are rolling the dice on your future',\n",
              " 'so become intentional on what you want out of life',\n",
              " 'commit to it',\n",
              " 'nurture your dreams',\n",
              " 'focus on your development and if you want to give up  know what s involved before you take the plunge',\n",
              " 'because i assure you  someone out there right now is working harder than you  reading more books  sleeping less and sacrificing all they have to realise their dreams and it may contest with yours',\n",
              " 'don t leave your dreams to chance']"
            ]
          },
          "metadata": {
            "tags": []
          },
          "execution_count": 127
        }
      ]
    },
    {
      "cell_type": "markdown",
      "metadata": {
        "id": "8E0rH_WjWRRA",
        "colab_type": "text"
      },
      "source": [
        "## Globe Embedding"
      ]
    },
    {
      "cell_type": "code",
      "metadata": {
        "id": "778LRwfNWBxq",
        "colab_type": "code",
        "outputId": "f596e3e0-77a4-4a54-af50-8ae36ccda60e",
        "colab": {
          "base_uri": "https://localhost:8080/",
          "height": 209
        }
      },
      "source": [
        "# Note this is the 100 dimension version of GloVe from Stanford\n",
        "# I unzipped and hosted it on my site to make this notebook easier\n",
        "!wget --no-check-certificate \\\n",
        "    https://storage.googleapis.com/laurencemoroney-blog.appspot.com/glove.6B.100d.txt \\\n",
        "    -O /tmp/glove.6B.100d.txt\n",
        "embeddings_index = {};\n",
        "with open('/tmp/glove.6B.100d.txt') as f:\n",
        "    for line in f:\n",
        "        values = line.split();\n",
        "        word = values[0];\n",
        "        coefs = np.asarray(values[1:], dtype='float32');\n",
        "        embeddings_index[word] = coefs;"
      ],
      "execution_count": 0,
      "outputs": [
        {
          "output_type": "stream",
          "text": [
            "--2020-05-13 07:17:19--  https://storage.googleapis.com/laurencemoroney-blog.appspot.com/glove.6B.100d.txt\n",
            "Resolving storage.googleapis.com (storage.googleapis.com)... 173.194.69.128, 2a00:1450:4013:c03::80\n",
            "Connecting to storage.googleapis.com (storage.googleapis.com)|173.194.69.128|:443... connected.\n",
            "HTTP request sent, awaiting response... 200 OK\n",
            "Length: 347116733 (331M) [text/plain]\n",
            "Saving to: ‘/tmp/glove.6B.100d.txt’\n",
            "\n",
            "/tmp/glove.6B.100d. 100%[===================>] 331.04M   103MB/s    in 3.2s    \n",
            "\n",
            "2020-05-13 07:17:22 (103 MB/s) - ‘/tmp/glove.6B.100d.txt’ saved [347116733/347116733]\n",
            "\n"
          ],
          "name": "stdout"
        }
      ]
    },
    {
      "cell_type": "markdown",
      "metadata": {
        "id": "CSWG0i43qGlu",
        "colab_type": "text"
      },
      "source": [
        "## Creating A Similarity Matrix"
      ]
    },
    {
      "cell_type": "code",
      "metadata": {
        "id": "yBFhyUZHqN1F",
        "colab_type": "code",
        "outputId": "fa8fc859-c055-443d-f310-b9eea04cf44e",
        "colab": {
          "base_uri": "https://localhost:8080/",
          "height": 34
        }
      },
      "source": [
        "len(new_sent)"
      ],
      "execution_count": 0,
      "outputs": [
        {
          "output_type": "execute_result",
          "data": {
            "text/plain": [
              "52"
            ]
          },
          "metadata": {
            "tags": []
          },
          "execution_count": 129
        }
      ]
    },
    {
      "cell_type": "code",
      "metadata": {
        "id": "ux-UnXYUqLBA",
        "colab_type": "code",
        "colab": {}
      },
      "source": [
        "sim_mat = np.zeros((len(new_sent), len(new_sent)))"
      ],
      "execution_count": 0,
      "outputs": []
    },
    {
      "cell_type": "markdown",
      "metadata": {
        "id": "eQE2Crrx0qM5",
        "colab_type": "text"
      },
      "source": [
        "## Finding Cosine Similarity Between tow sentences and entering values to matrix"
      ]
    },
    {
      "cell_type": "code",
      "metadata": {
        "id": "3pLrb76KWUpM",
        "colab_type": "code",
        "colab": {}
      },
      "source": [
        "for i in range(len(new_sent)):\n",
        "  for j in range(len(new_sent)):\n",
        "    if i==j:\n",
        "      continue\n",
        "    else:\n",
        "       wd1=new_sent[i].split()\n",
        "       wd2=new_sent[j].split()\n",
        "       vect1=np.mean([embeddings_index[word] for word in wd1],axis=0)\n",
        "       vect2=np.mean([embeddings_index[word] for word in wd2],axis=0)\n",
        "       similarity=cosine_similarity([vect1],[vect2])\n",
        "       sim_mat[i][j]=similarity[0][0]"
      ],
      "execution_count": 0,
      "outputs": []
    },
    {
      "cell_type": "markdown",
      "metadata": {
        "id": "cALwAGqs0xc3",
        "colab_type": "text"
      },
      "source": [
        "## Apply the PageRank algorithm over this sentence graph for sentence rank calculation."
      ]
    },
    {
      "cell_type": "code",
      "metadata": {
        "id": "qxw_4u5btrAj",
        "colab_type": "code",
        "colab": {}
      },
      "source": [
        "nx_graph = nx.from_numpy_array(sim_mat)\n",
        "scores = nx.pagerank(nx_graph)"
      ],
      "execution_count": 0,
      "outputs": []
    },
    {
      "cell_type": "markdown",
      "metadata": {
        "id": "16naWDYo1FQJ",
        "colab_type": "text"
      },
      "source": [
        "## Sorting the scores and finding sentences of the score"
      ]
    },
    {
      "cell_type": "code",
      "metadata": {
        "id": "uC7-g6Dtttql",
        "colab_type": "code",
        "colab": {}
      },
      "source": [
        "sorted_d = dict(sorted(scores.items(), key=operator.itemgetter(1),reverse=True))"
      ],
      "execution_count": 0,
      "outputs": []
    },
    {
      "cell_type": "code",
      "metadata": {
        "id": "YJt5VWvPys8o",
        "colab_type": "code",
        "colab": {}
      },
      "source": [
        "ranked_sentences = sorted(((scores[i],s) for i,s in enumerate(sentences)), reverse=True)"
      ],
      "execution_count": 0,
      "outputs": []
    },
    {
      "cell_type": "markdown",
      "metadata": {
        "id": "1-v4Mt8h06S6",
        "colab_type": "text"
      },
      "source": [
        "## Top 10 ranked sentences"
      ]
    },
    {
      "cell_type": "code",
      "metadata": {
        "id": "dDhq0EKB0Ke8",
        "colab_type": "code",
        "outputId": "5b5ff6ca-60bf-4974-a831-cf7119f8fd62",
        "colab": {
          "base_uri": "https://localhost:8080/",
          "height": 317
        }
      },
      "source": [
        "for i in range(10):\n",
        "    print(ranked_sentences[i][1])"
      ],
      "execution_count": 0,
      "outputs": [
        {
          "output_type": "stream",
          "text": [
            "“Two people on a precipice over Yosemite Valley” by Nathan Shipps\n",
            "Develop A Powerful Vision Of What You Want\n",
            "“Your problem is to bridge the gap which exists between where you are now and the goal you intend to reach.” — Earl Nightingale\n",
            "I recall a passage my father often used growing up in 1990s: “Don’t tell me your problems unless you’ve spent weeks trying to solve them yourself.” That advice has echoed in my mind for decades and became my motivator.\n",
            "Those Who Are Resilient Stay In The Game Longer\n",
            "“On the mountains of truth you can never climb in vain: either you will reach a point higher up today, or you will be training your powers so that you will be able to climb higher tomorrow.” — Friedrich Nietzsche\n",
            "Challenges and setbacks are not meant to defeat you, but promote you.\n",
            "Even more than the effort a gritty person puts in on a single day, what matters is that they wake up the next day, and the next, ready to get on that treadmill and keep going.”\n",
            "I know one thing for certain: don’t settle for less than what you’re capable of, but strive for something bigger.\n",
            "If you have not achieved the success you deserve and are considering giving up, will you regret it in a few years or decades from now?\n",
            "Similarly, there are no assurances even if you’re an overnight sensation, to sustain it for long, particularly if you don’t have the mental and emotional means to endure it.\n",
            "Because I assure you, someone out there right now is working harder than you, reading more books, sleeping less and sacrificing all they have to realise their dreams and it may contest with yours.\n",
            "Focus on your development and if you want to give up, know what’s involved before you take the plunge.\n",
            "What I wish to convey irrespective of where you are in your journey is: NEVER settle for less.\n",
            "However, I realise after many years of defeats, it can crush your spirit and it is easier to give up than risk further setbacks and disappointments.\n",
            "It’s a fact, if you don’t know what you want you’ll get what life hands you and it may not be in your best interest, affirms author Larry Weidel: “Winners know that if you don’t figure out what you want, you’ll get whatever life hands you.” The key is to develop a powerful vision of what you want and hold that image in your mind.\n"
          ],
          "name": "stdout"
        }
      ]
    }
  ]
}