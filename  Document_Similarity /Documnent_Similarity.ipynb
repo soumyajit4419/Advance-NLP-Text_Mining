{
 "cells": [
  {
   "cell_type": "markdown",
   "metadata": {},
   "source": [
    "# Semantic Text Similarity "
   ]
  },
  {
   "cell_type": "markdown",
   "metadata": {},
   "source": [
    "## Steps:-\n",
    "---- \n",
    "####  Cleaning Text:\n",
    "* Clealing Text using Regular Expression.\n",
    "#### Tokenizing:\n",
    "* Splitting sentences and words from the body of text. Words are separated by space after the word, i.e.after every word there is a space.\n",
    "#### Lemmatizing:\n",
    "* The goal of lemmatization is to reduce inflectional forms and sometimes derivationally related forms of a word to a common base form. By default, an attempt will be made to find the closest noun of a word.\n",
    "#### Parts Of Speech Tagging:\n",
    "* The process of classifying words into their parts of speech and labeling them accordingly is known as part-of-speech tagging.\n",
    "#### Synsets:\n",
    "* WordNet is a lexical database for the English language, and is part of the NLTK corpus. We can use WordNet alongside the NLTK module to find the meaning of words, synonyms, antonyms and more."
   ]
  },
  {
   "cell_type": "code",
   "execution_count": 1,
   "metadata": {},
   "outputs": [],
   "source": [
    "import pandas as pd \n",
    "import numpy as np\n",
    "import matplotlib.pyplot as plt"
   ]
  },
  {
   "cell_type": "code",
   "execution_count": 2,
   "metadata": {},
   "outputs": [],
   "source": [
    "import nltk\n",
    "from nltk.stem import WordNetLemmatizer\n",
    "from nltk.corpus import stopwords,wordnet\n",
    "import re"
   ]
  },
  {
   "cell_type": "code",
   "execution_count": 3,
   "metadata": {},
   "outputs": [],
   "source": [
    "from itertools import product"
   ]
  },
  {
   "cell_type": "code",
   "execution_count": 4,
   "metadata": {},
   "outputs": [],
   "source": [
    "from sklearn.metrics import classification_report"
   ]
  },
  {
   "cell_type": "markdown",
   "metadata": {},
   "source": [
    "## Cleaning Text"
   ]
  },
  {
   "cell_type": "code",
   "execution_count": 5,
   "metadata": {},
   "outputs": [],
   "source": [
    "str1 = \"I was given a card by her in the garden.\"\n",
    "str2 = \"In the garden, she gave me a card.\""
   ]
  },
  {
   "cell_type": "code",
   "execution_count": 6,
   "metadata": {},
   "outputs": [],
   "source": [
    "lemma=WordNetLemmatizer()"
   ]
  },
  {
   "cell_type": "code",
   "execution_count": 7,
   "metadata": {},
   "outputs": [],
   "source": [
    "def clean_text(a):\n",
    "    a=a.lower()\n",
    "    text=re.sub('[^a-z]',' ',a)\n",
    "    text=nltk.word_tokenize(text)\n",
    "    text=[lemma.lemmatize(word) for word in text]\n",
    "    text=' '.join(text)\n",
    "    return text"
   ]
  },
  {
   "cell_type": "code",
   "execution_count": 8,
   "metadata": {},
   "outputs": [],
   "source": [
    "sent1=clean_text(str1)\n",
    "sent2=clean_text(str2)"
   ]
  },
  {
   "cell_type": "code",
   "execution_count": 9,
   "metadata": {},
   "outputs": [
    {
     "name": "stdout",
     "output_type": "stream",
     "text": [
      "i wa given a card by her in the garden\n",
      "in the garden she gave me a card\n"
     ]
    }
   ],
   "source": [
    "print(sent1)\n",
    "print(sent2)"
   ]
  },
  {
   "cell_type": "markdown",
   "metadata": {},
   "source": [
    "## Pos taging and converting them to sysnsets form"
   ]
  },
  {
   "cell_type": "code",
   "execution_count": 10,
   "metadata": {},
   "outputs": [],
   "source": [
    "tag_dict = {'N': 'n', 'J': 'a', 'R': 'r', 'V': 'v'}"
   ]
  },
  {
   "cell_type": "code",
   "execution_count": 11,
   "metadata": {},
   "outputs": [
    {
     "data": {
      "text/plain": [
       "[('i', 'NN'),\n",
       " ('wa', 'VBD'),\n",
       " ('given', 'VBN'),\n",
       " ('a', 'DT'),\n",
       " ('card', 'NN'),\n",
       " ('by', 'IN'),\n",
       " ('her', 'PRP$'),\n",
       " ('in', 'IN'),\n",
       " ('the', 'DT'),\n",
       " ('garden', 'NN')]"
      ]
     },
     "execution_count": 11,
     "metadata": {},
     "output_type": "execute_result"
    }
   ],
   "source": [
    "tokens = nltk.word_tokenize(sent1)\n",
    "pos1 = nltk.pos_tag(tokens)\n",
    "pos1"
   ]
  },
  {
   "cell_type": "code",
   "execution_count": 12,
   "metadata": {},
   "outputs": [
    {
     "data": {
      "text/plain": [
       "[('in', 'IN'),\n",
       " ('the', 'DT'),\n",
       " ('garden', 'NN'),\n",
       " ('she', 'PRP'),\n",
       " ('gave', 'VBD'),\n",
       " ('me', 'PRP'),\n",
       " ('a', 'DT'),\n",
       " ('card', 'NN')]"
      ]
     },
     "execution_count": 12,
     "metadata": {},
     "output_type": "execute_result"
    }
   ],
   "source": [
    "tokens = nltk.word_tokenize(sent2)\n",
    "pos2 = nltk.pos_tag(tokens)\n",
    "pos2"
   ]
  },
  {
   "cell_type": "code",
   "execution_count": 13,
   "metadata": {},
   "outputs": [],
   "source": [
    "new_pos1=[]\n",
    "for word,pos in pos1:\n",
    "    pos=pos[0]\n",
    "    try:\n",
    "        pos=tag_dict[pos]\n",
    "        new_pos1.append((word,pos))\n",
    "    except KeyError:\n",
    "        new_pos1.append((word,None))"
   ]
  },
  {
   "cell_type": "code",
   "execution_count": 14,
   "metadata": {},
   "outputs": [],
   "source": [
    "new_pos2=[]\n",
    "for word,pos in pos2:\n",
    "    pos=pos[0]\n",
    "    try:\n",
    "        pos=tag_dict[pos]\n",
    "        new_pos2.append((word,pos))\n",
    "    except KeyError:\n",
    "        new_pos2.append((word,None))"
   ]
  },
  {
   "cell_type": "code",
   "execution_count": 15,
   "metadata": {},
   "outputs": [
    {
     "data": {
      "text/plain": [
       "[('i', 'n'),\n",
       " ('wa', 'v'),\n",
       " ('given', 'v'),\n",
       " ('a', None),\n",
       " ('card', 'n'),\n",
       " ('by', None),\n",
       " ('her', None),\n",
       " ('in', None),\n",
       " ('the', None),\n",
       " ('garden', 'n')]"
      ]
     },
     "execution_count": 15,
     "metadata": {},
     "output_type": "execute_result"
    }
   ],
   "source": [
    "new_pos1"
   ]
  },
  {
   "cell_type": "code",
   "execution_count": 16,
   "metadata": {},
   "outputs": [
    {
     "data": {
      "text/plain": [
       "[('in', None),\n",
       " ('the', None),\n",
       " ('garden', 'n'),\n",
       " ('she', None),\n",
       " ('gave', 'v'),\n",
       " ('me', None),\n",
       " ('a', None),\n",
       " ('card', 'n')]"
      ]
     },
     "execution_count": 16,
     "metadata": {},
     "output_type": "execute_result"
    }
   ],
   "source": [
    "new_pos2"
   ]
  },
  {
   "cell_type": "markdown",
   "metadata": {},
   "source": [
    "## Finding Path Similarity"
   ]
  },
  {
   "cell_type": "markdown",
   "metadata": {},
   "source": [
    "![path](./path_sim.png)"
   ]
  },
  {
   "cell_type": "code",
   "execution_count": 17,
   "metadata": {},
   "outputs": [],
   "source": [
    "final = []\n",
    "for word1,pos1 in new_pos1:\n",
    "    similarity = []\n",
    "    for word2,pos2 in new_pos2:\n",
    "        sims = []\n",
    "        syns1 = wordnet.synsets(word1,pos1)\n",
    "        syns2 = wordnet.synsets(word2,pos2)\n",
    "        for sense1, sense2 in product(syns1, syns2):\n",
    "            d = wordnet.path_similarity(sense1, sense2)\n",
    "            if d != None:\n",
    "                sims.append(d)\n",
    "        if sims != []:\n",
    "            max_sim = max(sims)\n",
    "            similarity.append(max_sim)\n",
    "    if similarity != []:\n",
    "        max_final = max(similarity)\n",
    "        final.append(max_final)\n",
    "similarity_index1 = np.mean(final)\n",
    "final = []\n",
    "for word1,pos1 in new_pos2:\n",
    "    similarity = []\n",
    "    for word2,pos2 in new_pos1:\n",
    "        sims = []\n",
    "        syns1 = wordnet.synsets(word1,pos1)\n",
    "        syns2 = wordnet.synsets(word2,pos2)\n",
    "        for sense1, sense2 in product(syns1, syns2):\n",
    "            d = wordnet.path_similarity(sense1, sense2)\n",
    "            if d != None:\n",
    "                sims.append(d)\n",
    "        if sims != []:\n",
    "            max_sim = max(sims)\n",
    "            similarity.append(max_sim)\n",
    "    if similarity != []:\n",
    "        max_final = max(similarity)\n",
    "        final.append(max_final)\n",
    "similarity_index2 = np.mean(final)"
   ]
  },
  {
   "cell_type": "code",
   "execution_count": 18,
   "metadata": {},
   "outputs": [
    {
     "data": {
      "text/plain": [
       "0.8888888888888888"
      ]
     },
     "execution_count": 18,
     "metadata": {},
     "output_type": "execute_result"
    }
   ],
   "source": [
    "similarity_index=(similarity_index1+similarity_index2)/2\n",
    "similarity_index"
   ]
  },
  {
   "cell_type": "code",
   "execution_count": 19,
   "metadata": {},
   "outputs": [
    {
     "name": "stdout",
     "output_type": "stream",
     "text": [
      "Similar\n"
     ]
    }
   ],
   "source": [
    "if similarity_index>0.80:\n",
    "    print(\"Similar\")\n",
    "elif similarity_index>=0.60:\n",
    "    print(\"Somewhat Similar\")\n",
    "else:\n",
    "    print(\"Not Similar\")"
   ]
  },
  {
   "cell_type": "markdown",
   "metadata": {},
   "source": [
    "## Finding WUP Similarity"
   ]
  },
  {
   "cell_type": "markdown",
   "metadata": {},
   "source": [
    "![wup](./wup.png)"
   ]
  },
  {
   "cell_type": "code",
   "execution_count": 20,
   "metadata": {},
   "outputs": [],
   "source": [
    "final = []\n",
    "for word1,pos1 in new_pos1:\n",
    "    similarity = []\n",
    "    for word2,pos2 in new_pos2:\n",
    "        sims = []\n",
    "        syns1 = wordnet.synsets(word1,pos1)\n",
    "        syns2 = wordnet.synsets(word2,pos2)\n",
    "        for sense1, sense2 in product(syns1, syns2):\n",
    "            d = wordnet.wup_similarity(sense1, sense2)\n",
    "            if d != None:\n",
    "                sims.append(d)\n",
    "        if sims != []:\n",
    "            max_sim = max(sims)\n",
    "            similarity.append(max_sim)\n",
    "    if similarity != []:\n",
    "        max_final = max(similarity)\n",
    "        final.append(max_final)\n",
    "similarity_index1 = np.mean(final)\n",
    "final = []\n",
    "for word1,pos1 in new_pos2:\n",
    "    similarity = []\n",
    "    for word2,pos2 in new_pos1:\n",
    "        sims = []\n",
    "        syns1 = wordnet.synsets(word1,pos1)\n",
    "        syns2 = wordnet.synsets(word2,pos2)\n",
    "        for sense1, sense2 in product(syns1, syns2):\n",
    "            d = wordnet.wup_similarity(sense1, sense2)\n",
    "            if d != None:\n",
    "                sims.append(d)\n",
    "        if sims != []:\n",
    "            max_sim = max(sims)\n",
    "            similarity.append(max_sim)\n",
    "    if similarity != []:\n",
    "        max_final = max(similarity)\n",
    "        final.append(max_final)\n",
    "similarity_index2 = np.mean(final)"
   ]
  },
  {
   "cell_type": "code",
   "execution_count": 21,
   "metadata": {},
   "outputs": [
    {
     "data": {
      "text/plain": [
       "0.9824074074074074"
      ]
     },
     "execution_count": 21,
     "metadata": {},
     "output_type": "execute_result"
    }
   ],
   "source": [
    "similarity_index=(similarity_index1+similarity_index2)/2\n",
    "similarity_index"
   ]
  },
  {
   "cell_type": "code",
   "execution_count": 22,
   "metadata": {},
   "outputs": [
    {
     "name": "stdout",
     "output_type": "stream",
     "text": [
      "Similar\n"
     ]
    }
   ],
   "source": [
    "if similarity_index>0.80:\n",
    "    print(\"Similar\")\n",
    "elif similarity_index>=0.60:\n",
    "    print(\"Somewhat Similar\")\n",
    "else:\n",
    "    print(\"Not Similar\")"
   ]
  },
  {
   "cell_type": "markdown",
   "metadata": {},
   "source": [
    "## Building a Function to check similarity between two string"
   ]
  },
  {
   "cell_type": "code",
   "execution_count": 23,
   "metadata": {},
   "outputs": [],
   "source": [
    "def predict_path_similarity(s1,s2):\n",
    "    \n",
    "    tokens = nltk.word_tokenize(s1)\n",
    "    pos1 = nltk.pos_tag(tokens)\n",
    "    new_pos1=[]\n",
    "    for word,pos in pos1:\n",
    "        pos=pos[0]\n",
    "        try:\n",
    "            pos=tag_dict[pos]\n",
    "            new_pos1.append((word,pos))\n",
    "        except KeyError:\n",
    "            new_pos1.append((word,None))\n",
    "      \n",
    "    tokens = nltk.word_tokenize(s2)\n",
    "    pos2 = nltk.pos_tag(tokens)\n",
    "    new_pos2=[]\n",
    "    for word,pos in pos2:\n",
    "        pos=pos[0]\n",
    "        try:\n",
    "            pos=tag_dict[pos]\n",
    "            new_pos2.append((word,pos))\n",
    "        except KeyError:\n",
    "            new_pos2.append((word,None))\n",
    "            \n",
    "    final = []\n",
    "    for word1,pos1 in new_pos1:\n",
    "        similarity = []\n",
    "        for word2,pos2 in new_pos2:\n",
    "            sims = []\n",
    "            syns1 = wordnet.synsets(word1,pos1)\n",
    "            syns2 = wordnet.synsets(word2,pos2)\n",
    "            for sense1, sense2 in product(syns1, syns2):\n",
    "                d = wordnet.path_similarity(sense1, sense2)\n",
    "                if d != None:\n",
    "                    sims.append(d)\n",
    "            if sims != []:\n",
    "                max_sim = max(sims)\n",
    "                similarity.append(max_sim)\n",
    "        if similarity != []:\n",
    "            max_final = max(similarity)\n",
    "            final.append(max_final)\n",
    "    similarity_index1 = np.mean(final)\n",
    "    \n",
    "    final = []\n",
    "    for word1,pos1 in new_pos2:\n",
    "        similarity = []\n",
    "        for word2,pos2 in new_pos1:\n",
    "            sims = []\n",
    "            syns1 = wordnet.synsets(word1,pos1)\n",
    "            syns2 = wordnet.synsets(word2,pos2)\n",
    "            for sense1, sense2 in product(syns1, syns2):\n",
    "                d = wordnet.path_similarity(sense1, sense2)\n",
    "                if d != None:\n",
    "                    sims.append(d)\n",
    "            if sims != []:\n",
    "                max_sim = max(sims)\n",
    "                similarity.append(max_sim)\n",
    "        if similarity != []:\n",
    "            max_final = max(similarity)\n",
    "            final.append(max_final)\n",
    "    similarity_index2 = np.mean(final) \n",
    "    \n",
    "    return(similarity_index1,similarity_index2)"
   ]
  },
  {
   "cell_type": "code",
   "execution_count": 24,
   "metadata": {},
   "outputs": [],
   "source": [
    "def predict_wup_similarity(s1,s2):\n",
    "    \n",
    "    tokens = nltk.word_tokenize(s1)\n",
    "    pos1 = nltk.pos_tag(tokens)\n",
    "    new_pos1=[]\n",
    "    for word,pos in pos1:\n",
    "        pos=pos[0]\n",
    "        try:\n",
    "            pos=tag_dict[pos]\n",
    "            new_pos1.append((word,pos))\n",
    "        except KeyError:\n",
    "            new_pos1.append((word,None))\n",
    "      \n",
    "    tokens = nltk.word_tokenize(s2)\n",
    "    pos2 = nltk.pos_tag(tokens)\n",
    "    new_pos2=[]\n",
    "    for word,pos in pos2:\n",
    "        pos=pos[0]\n",
    "        try:\n",
    "            pos=tag_dict[pos]\n",
    "            new_pos2.append((word,pos))\n",
    "        except KeyError:\n",
    "            new_pos2.append((word,None))\n",
    "            \n",
    "    final = []\n",
    "    for word1,pos1 in new_pos1:\n",
    "        similarity = []\n",
    "        for word2,pos2 in new_pos2:\n",
    "            sims = []\n",
    "            syns1 = wordnet.synsets(word1,pos1)\n",
    "            syns2 = wordnet.synsets(word2,pos2)\n",
    "            for sense1, sense2 in product(syns1, syns2):\n",
    "                d = wordnet.wup_similarity(sense1, sense2)\n",
    "                if d != None:\n",
    "                    sims.append(d)\n",
    "            if sims != []:\n",
    "                max_sim = max(sims)\n",
    "                similarity.append(max_sim)\n",
    "        if similarity != []:\n",
    "            max_final = max(similarity)\n",
    "            final.append(max_final)\n",
    "    similarity_index1 = np.mean(final)\n",
    "    \n",
    "    final = []\n",
    "    for word1,pos1 in new_pos2:\n",
    "        similarity = []\n",
    "        for word2,pos2 in new_pos1:\n",
    "            sims = []\n",
    "            syns1 = wordnet.synsets(word1,pos1)\n",
    "            syns2 = wordnet.synsets(word2,pos2)\n",
    "            for sense1, sense2 in product(syns1, syns2):\n",
    "                d = wordnet.wup_similarity(sense1, sense2)\n",
    "                if d != None:\n",
    "                    sims.append(d)\n",
    "            if sims != []:\n",
    "                max_sim = max(sims)\n",
    "                similarity.append(max_sim)\n",
    "        if similarity != []:\n",
    "            max_final = max(similarity)\n",
    "            final.append(max_final)\n",
    "    similarity_index2 = np.mean(final) \n",
    "    \n",
    "    return(similarity_index1,similarity_index2)"
   ]
  },
  {
   "cell_type": "code",
   "execution_count": 25,
   "metadata": {},
   "outputs": [],
   "source": [
    "def check_similar(similarity_index):\n",
    "    if similarity_index>0.80:\n",
    "        return \"Similar\"\n",
    "    elif similarity_index>=0.60:\n",
    "        return \"Somewhat Similar\"\n",
    "    else:\n",
    "        return \"Not Similar\""
   ]
  },
  {
   "cell_type": "code",
   "execution_count": 26,
   "metadata": {},
   "outputs": [],
   "source": [
    "str1 = \"A school is a place where kids go to study.\"\n",
    "str2 = \"School is an institution for children who want to study.\""
   ]
  },
  {
   "cell_type": "markdown",
   "metadata": {},
   "source": [
    "### Path similarity"
   ]
  },
  {
   "cell_type": "code",
   "execution_count": 27,
   "metadata": {
    "scrolled": true
   },
   "outputs": [
    {
     "data": {
      "text/plain": [
       "0.6244791666666667"
      ]
     },
     "execution_count": 27,
     "metadata": {},
     "output_type": "execute_result"
    }
   ],
   "source": [
    "sent1=clean_text(str1)\n",
    "sent2=clean_text(str2)\n",
    "s1,s2=predict_path_similarity(sent1,sent2)\n",
    "similarity_index=(s1+s2)/2\n",
    "similarity_index"
   ]
  },
  {
   "cell_type": "code",
   "execution_count": 28,
   "metadata": {},
   "outputs": [
    {
     "data": {
      "text/plain": [
       "'Somewhat Similar'"
      ]
     },
     "execution_count": 28,
     "metadata": {},
     "output_type": "execute_result"
    }
   ],
   "source": [
    "check_similar(similarity_index)"
   ]
  },
  {
   "cell_type": "markdown",
   "metadata": {},
   "source": [
    "### WUP Similarity"
   ]
  },
  {
   "cell_type": "code",
   "execution_count": 29,
   "metadata": {},
   "outputs": [
    {
     "data": {
      "text/plain": [
       "0.7986694677871149"
      ]
     },
     "execution_count": 29,
     "metadata": {},
     "output_type": "execute_result"
    }
   ],
   "source": [
    "sent1=clean_text(str1)\n",
    "sent2=clean_text(str2)\n",
    "s1,s2=predict_wup_similarity(sent1,sent2)\n",
    "similarity_index=(s1+s2)/2\n",
    "similarity_index"
   ]
  },
  {
   "cell_type": "code",
   "execution_count": 30,
   "metadata": {},
   "outputs": [
    {
     "data": {
      "text/plain": [
       "'Somewhat Similar'"
      ]
     },
     "execution_count": 30,
     "metadata": {},
     "output_type": "execute_result"
    }
   ],
   "source": [
    "check_similar(similarity_index)"
   ]
  },
  {
   "cell_type": "markdown",
   "metadata": {},
   "source": [
    "## Checking The accuracy on a Data Frame"
   ]
  },
  {
   "cell_type": "code",
   "execution_count": 31,
   "metadata": {},
   "outputs": [
    {
     "data": {
      "text/html": [
       "<div>\n",
       "<style scoped>\n",
       "    .dataframe tbody tr th:only-of-type {\n",
       "        vertical-align: middle;\n",
       "    }\n",
       "\n",
       "    .dataframe tbody tr th {\n",
       "        vertical-align: top;\n",
       "    }\n",
       "\n",
       "    .dataframe thead th {\n",
       "        text-align: right;\n",
       "    }\n",
       "</style>\n",
       "<table border=\"1\" class=\"dataframe\">\n",
       "  <thead>\n",
       "    <tr style=\"text-align: right;\">\n",
       "      <th></th>\n",
       "      <th>Quality</th>\n",
       "      <th>D1</th>\n",
       "      <th>D2</th>\n",
       "    </tr>\n",
       "  </thead>\n",
       "  <tbody>\n",
       "    <tr>\n",
       "      <td>0</td>\n",
       "      <td>1</td>\n",
       "      <td>Ms Stewart, the chief executive, was not expec...</td>\n",
       "      <td>Ms Stewart, 61, its chief executive officer an...</td>\n",
       "    </tr>\n",
       "    <tr>\n",
       "      <td>1</td>\n",
       "      <td>1</td>\n",
       "      <td>After more than two years' detention under the...</td>\n",
       "      <td>After more than two years in detention by the ...</td>\n",
       "    </tr>\n",
       "    <tr>\n",
       "      <td>2</td>\n",
       "      <td>1</td>\n",
       "      <td>\"It still remains to be seen whether the reven...</td>\n",
       "      <td>\"It remains to be seen whether the revenue rec...</td>\n",
       "    </tr>\n",
       "    <tr>\n",
       "      <td>3</td>\n",
       "      <td>0</td>\n",
       "      <td>And it's going to be a wild ride,\" said Allan ...</td>\n",
       "      <td>Now the rest is just mechanical,\" said Allan H...</td>\n",
       "    </tr>\n",
       "    <tr>\n",
       "      <td>4</td>\n",
       "      <td>1</td>\n",
       "      <td>The cards are issued by Mexico's consulates to...</td>\n",
       "      <td>The card is issued by Mexico's consulates to i...</td>\n",
       "    </tr>\n",
       "  </tbody>\n",
       "</table>\n",
       "</div>"
      ],
      "text/plain": [
       "   Quality                                                 D1  \\\n",
       "0        1  Ms Stewart, the chief executive, was not expec...   \n",
       "1        1  After more than two years' detention under the...   \n",
       "2        1  \"It still remains to be seen whether the reven...   \n",
       "3        0  And it's going to be a wild ride,\" said Allan ...   \n",
       "4        1  The cards are issued by Mexico's consulates to...   \n",
       "\n",
       "                                                  D2  \n",
       "0  Ms Stewart, 61, its chief executive officer an...  \n",
       "1  After more than two years in detention by the ...  \n",
       "2  \"It remains to be seen whether the revenue rec...  \n",
       "3  Now the rest is just mechanical,\" said Allan H...  \n",
       "4  The card is issued by Mexico's consulates to i...  "
      ]
     },
     "execution_count": 31,
     "metadata": {},
     "output_type": "execute_result"
    }
   ],
   "source": [
    "df=pd.read_csv('./paraphrases.csv')\n",
    "df.head()"
   ]
  },
  {
   "cell_type": "code",
   "execution_count": 32,
   "metadata": {},
   "outputs": [],
   "source": [
    "df['D1']=df['D1'].apply(clean_text)\n",
    "df['D2']=df['D2'].apply(clean_text)"
   ]
  },
  {
   "cell_type": "code",
   "execution_count": 33,
   "metadata": {},
   "outputs": [
    {
     "data": {
      "text/html": [
       "<div>\n",
       "<style scoped>\n",
       "    .dataframe tbody tr th:only-of-type {\n",
       "        vertical-align: middle;\n",
       "    }\n",
       "\n",
       "    .dataframe tbody tr th {\n",
       "        vertical-align: top;\n",
       "    }\n",
       "\n",
       "    .dataframe thead th {\n",
       "        text-align: right;\n",
       "    }\n",
       "</style>\n",
       "<table border=\"1\" class=\"dataframe\">\n",
       "  <thead>\n",
       "    <tr style=\"text-align: right;\">\n",
       "      <th></th>\n",
       "      <th>Quality</th>\n",
       "      <th>D1</th>\n",
       "      <th>D2</th>\n",
       "    </tr>\n",
       "  </thead>\n",
       "  <tbody>\n",
       "    <tr>\n",
       "      <td>0</td>\n",
       "      <td>1</td>\n",
       "      <td>m stewart the chief executive wa not expected ...</td>\n",
       "      <td>m stewart it chief executive officer and chair...</td>\n",
       "    </tr>\n",
       "    <tr>\n",
       "      <td>1</td>\n",
       "      <td>1</td>\n",
       "      <td>after more than two year detention under the s...</td>\n",
       "      <td>after more than two year in detention by the s...</td>\n",
       "    </tr>\n",
       "    <tr>\n",
       "      <td>2</td>\n",
       "      <td>1</td>\n",
       "      <td>it still remains to be seen whether the revenu...</td>\n",
       "      <td>it remains to be seen whether the revenue reco...</td>\n",
       "    </tr>\n",
       "    <tr>\n",
       "      <td>3</td>\n",
       "      <td>0</td>\n",
       "      <td>and it s going to be a wild ride said allan ho...</td>\n",
       "      <td>now the rest is just mechanical said allan hof...</td>\n",
       "    </tr>\n",
       "    <tr>\n",
       "      <td>4</td>\n",
       "      <td>1</td>\n",
       "      <td>the card are issued by mexico s consulate to i...</td>\n",
       "      <td>the card is issued by mexico s consulate to it...</td>\n",
       "    </tr>\n",
       "  </tbody>\n",
       "</table>\n",
       "</div>"
      ],
      "text/plain": [
       "   Quality                                                 D1  \\\n",
       "0        1  m stewart the chief executive wa not expected ...   \n",
       "1        1  after more than two year detention under the s...   \n",
       "2        1  it still remains to be seen whether the revenu...   \n",
       "3        0  and it s going to be a wild ride said allan ho...   \n",
       "4        1  the card are issued by mexico s consulate to i...   \n",
       "\n",
       "                                                  D2  \n",
       "0  m stewart it chief executive officer and chair...  \n",
       "1  after more than two year in detention by the s...  \n",
       "2  it remains to be seen whether the revenue reco...  \n",
       "3  now the rest is just mechanical said allan hof...  \n",
       "4  the card is issued by mexico s consulate to it...  "
      ]
     },
     "execution_count": 33,
     "metadata": {},
     "output_type": "execute_result"
    }
   ],
   "source": [
    "df.head()"
   ]
  },
  {
   "cell_type": "code",
   "execution_count": 34,
   "metadata": {},
   "outputs": [],
   "source": [
    "predicted_path_quality=[]\n",
    "for i in df.index:\n",
    "    str1 = df['D1'][i]\n",
    "    str2 = df['D2'][i]\n",
    "    s1,s2=predict_path_similarity(str1,str2)\n",
    "    similarity_index=(s1+s2)/2\n",
    "    predicted_path_quality.append(similarity_index)"
   ]
  },
  {
   "cell_type": "code",
   "execution_count": 35,
   "metadata": {},
   "outputs": [],
   "source": [
    "predicted_wup_quality=[]\n",
    "for i in df.index:\n",
    "    str1 = df['D1'][i]\n",
    "    str2 = df['D2'][i]\n",
    "    s1,s2=predict_wup_similarity(str1,str2)\n",
    "    similarity_index=(s1+s2)/2\n",
    "    predicted_wup_quality.append(similarity_index)"
   ]
  },
  {
   "cell_type": "markdown",
   "metadata": {},
   "source": [
    "#### Predicted Probalibility of similarity"
   ]
  },
  {
   "cell_type": "code",
   "execution_count": 36,
   "metadata": {},
   "outputs": [
    {
     "data": {
      "text/plain": [
       "[0.5062181122448979,\n",
       " 0.9583333333333333,\n",
       " 0.8879419191919192,\n",
       " 0.805976430976431,\n",
       " 0.9714052287581699,\n",
       " 0.8622767857142857,\n",
       " 0.7583333333333333,\n",
       " 0.7444444444444445,\n",
       " 0.6394557823129252,\n",
       " 0.7839781746031746,\n",
       " 0.5908068783068783,\n",
       " 0.5893190143190143,\n",
       " 0.6790277777777778,\n",
       " 0.9583333333333333,\n",
       " 0.8183333333333332,\n",
       " 0.9226190476190477,\n",
       " 0.5621271585557299,\n",
       " 0.5452380952380952,\n",
       " 0.6543849206349206,\n",
       " 0.8726851851851851]"
      ]
     },
     "execution_count": 36,
     "metadata": {},
     "output_type": "execute_result"
    }
   ],
   "source": [
    "predicted_path_quality"
   ]
  },
  {
   "cell_type": "code",
   "execution_count": 37,
   "metadata": {},
   "outputs": [
    {
     "data": {
      "text/plain": [
       "[0.6805921052631579,\n",
       " 0.9904411764705883,\n",
       " 0.9554724228872835,\n",
       " 0.9009502923976608,\n",
       " 0.9969900240798073,\n",
       " 0.929251514202172,\n",
       " 0.8533800564760317,\n",
       " 0.8666666666666667,\n",
       " 0.8214285714285714,\n",
       " 0.9151519329054159,\n",
       " 0.791126450580232,\n",
       " 0.7506338899196042,\n",
       " 0.828526999316473,\n",
       " 0.9876543209876543,\n",
       " 0.9090976392029023,\n",
       " 0.9695184106511339,\n",
       " 0.8272909163665465,\n",
       " 0.7594246031746031,\n",
       " 0.8505909341203458,\n",
       " 0.9310574229691877]"
      ]
     },
     "execution_count": 37,
     "metadata": {},
     "output_type": "execute_result"
    }
   ],
   "source": [
    "predicted_wup_quality"
   ]
  },
  {
   "cell_type": "markdown",
   "metadata": {},
   "source": [
    "## Finding Threshold Value"
   ]
  },
  {
   "cell_type": "code",
   "execution_count": 38,
   "metadata": {},
   "outputs": [],
   "source": [
    "threshold_values=[0.55,0.60,0.65,0.70,0.75,0.80,0.85,0.90]\n",
    "path_accuracy=[]\n",
    "for val in threshold_values:\n",
    "    predict=[]\n",
    "    for i in predicted_path_quality:\n",
    "        if i>val:\n",
    "            predict.append(1)\n",
    "        else:\n",
    "            predict.append(0)\n",
    "    x=classification_report(df['Quality'],predict,output_dict=True)\n",
    "    path_accuracy.append(x['accuracy'])"
   ]
  },
  {
   "cell_type": "code",
   "execution_count": 39,
   "metadata": {},
   "outputs": [
    {
     "name": "stderr",
     "output_type": "stream",
     "text": [
      "/home/s0umyajit/anaconda3/lib/python3.7/site-packages/sklearn/metrics/_classification.py:1272: UndefinedMetricWarning: Precision and F-score are ill-defined and being set to 0.0 in labels with no predicted samples. Use `zero_division` parameter to control this behavior.\n",
      "  _warn_prf(average, modifier, msg_start, len(result))\n"
     ]
    }
   ],
   "source": [
    "threshold_values=[0.55,0.60,0.65,0.70,0.75,0.80,0.85,0.90]\n",
    "wup_accuracy=[]\n",
    "for val in threshold_values:\n",
    "    predict=[]\n",
    "    for i in predicted_wup_quality:\n",
    "        if i>val:\n",
    "            predict.append(1)\n",
    "        else:\n",
    "            predict.append(0)\n",
    "    x=classification_report(df['Quality'],predict,output_dict=True)\n",
    "    wup_accuracy.append(x['accuracy'])"
   ]
  },
  {
   "cell_type": "code",
   "execution_count": 40,
   "metadata": {},
   "outputs": [
    {
     "data": {
      "text/plain": [
       "[<matplotlib.lines.Line2D at 0x7feed6625b10>]"
      ]
     },
     "execution_count": 40,
     "metadata": {},
     "output_type": "execute_result"
    },
    {
     "data": {
      "image/png": "[encoded data removed]",
      "text/plain": [
       "<Figure size 720x360 with 1 Axes>"
      ]
     },
     "metadata": {
      "needs_background": "light"
     },
     "output_type": "display_data"
    }
   ],
   "source": [
    "plt.figure(figsize=(10,5))\n",
    "plt.plot(threshold_values,path_accuracy,marker='o',linestyle='--')"
   ]
  },
  {
   "cell_type": "code",
   "execution_count": 41,
   "metadata": {},
   "outputs": [
    {
     "data": {
      "text/plain": [
       "[<matplotlib.lines.Line2D at 0x7feed6559650>]"
      ]
     },
     "execution_count": 41,
     "metadata": {},
     "output_type": "execute_result"
    },
    {
     "data": {
      "image/png": "[encoded data removed]",
      "text/plain": [
       "<Figure size 720x360 with 1 Axes>"
      ]
     },
     "metadata": {
      "needs_background": "light"
     },
     "output_type": "display_data"
    }
   ],
   "source": [
    "plt.figure(figsize=(10,5))\n",
    "plt.plot(threshold_values,wup_accuracy,marker='o',linestyle='--')"
   ]
  },
  {
   "cell_type": "markdown",
   "metadata": {},
   "source": [
    "### Path similarity has an accuracy of  80% at threshold of 0.70"
   ]
  },
  {
   "cell_type": "code",
   "execution_count": 42,
   "metadata": {},
   "outputs": [],
   "source": [
    "predict = []\n",
    "for i in predicted_path_quality:\n",
    "    if i > 0.70:\n",
    "        predict.append(1)\n",
    "    else:\n",
    "        predict.append(0)"
   ]
  },
  {
   "cell_type": "code",
   "execution_count": 43,
   "metadata": {},
   "outputs": [
    {
     "name": "stdout",
     "output_type": "stream",
     "text": [
      "              precision    recall  f1-score   support\n",
      "\n",
      "           0       0.88      0.70      0.78        10\n",
      "           1       0.75      0.90      0.82        10\n",
      "\n",
      "    accuracy                           0.80        20\n",
      "   macro avg       0.81      0.80      0.80        20\n",
      "weighted avg       0.81      0.80      0.80        20\n",
      "\n"
     ]
    }
   ],
   "source": [
    "print(classification_report(df['Quality'],predict))"
   ]
  },
  {
   "cell_type": "markdown",
   "metadata": {},
   "source": [
    "### WUP similarity has an accuracy of 75% at threshold of 0.85"
   ]
  },
  {
   "cell_type": "code",
   "execution_count": 44,
   "metadata": {},
   "outputs": [],
   "source": [
    "predict = []\n",
    "for i in predicted_path_quality:\n",
    "    if i > 0.85:\n",
    "        predict.append(1)\n",
    "    else:\n",
    "        predict.append(0)"
   ]
  },
  {
   "cell_type": "code",
   "execution_count": 45,
   "metadata": {},
   "outputs": [
    {
     "name": "stdout",
     "output_type": "stream",
     "text": [
      "              precision    recall  f1-score   support\n",
      "\n",
      "           0       0.69      0.90      0.78        10\n",
      "           1       0.86      0.60      0.71        10\n",
      "\n",
      "    accuracy                           0.75        20\n",
      "   macro avg       0.77      0.75      0.74        20\n",
      "weighted avg       0.77      0.75      0.74        20\n",
      "\n"
     ]
    }
   ],
   "source": [
    "print(classification_report(df['Quality'],predict))"
   ]
  },
  {
   "cell_type": "markdown",
   "metadata": {},
   "source": [
    "### Path Similarity Has more accurate results"
   ]
  }
 ],
 "metadata": {
  "kernelspec": {
   "display_name": "Python 3",
   "language": "python",
   "name": "python3"
  },
  "language_info": {
   "codemirror_mode": {
    "name": "ipython",
    "version": 3
   },
   "file_extension": ".py",
   "mimetype": "text/x-python",
   "name": "python",
   "nbconvert_exporter": "python",
   "pygments_lexer": "ipython3",
   "version": "3.7.4"
  }
 },
 "nbformat": 4,
 "nbformat_minor": 2
}
