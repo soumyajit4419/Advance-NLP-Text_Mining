{
 "cells": [
  {
   "cell_type": "markdown",
   "metadata": {},
   "source": [
    "# Topic Modeling Using Latent Dirichlet Allocation\n",
    "#### LDA is used to classify text in a document to a particular topic. It builds a topic per document model and words per topic model, modeled as Dirichlet distributions."
   ]
  },
  {
   "cell_type": "code",
   "execution_count": 22,
   "metadata": {},
   "outputs": [],
   "source": [
    "import pandas as pd \n",
    "import numpy as np\n",
    "import matplotlib.pyplot as plt "
   ]
  },
  {
   "cell_type": "code",
   "execution_count": 23,
   "metadata": {},
   "outputs": [],
   "source": [
    "import re\n",
    "import nltk\n",
    "from nltk.corpus import stopwords\n",
    "from nltk.stem import WordNetLemmatizer"
   ]
  },
  {
   "cell_type": "code",
   "execution_count": 24,
   "metadata": {},
   "outputs": [],
   "source": [
    "from sklearn.feature_extraction.text import CountVectorizer\n",
    "import gensim"
   ]
  },
  {
   "cell_type": "markdown",
   "metadata": {},
   "source": [
    "## Step 1: Load the dataset\n",
    "#### The dataset used is the 20newsgroup dataset that is available from sklearn. This dataset has news articles grouped into 20 news categories"
   ]
  },
  {
   "cell_type": "code",
   "execution_count": 25,
   "metadata": {},
   "outputs": [],
   "source": [
    "from sklearn.datasets import fetch_20newsgroups"
   ]
  },
  {
   "cell_type": "code",
   "execution_count": 26,
   "metadata": {},
   "outputs": [],
   "source": [
    "newsgroups_train = fetch_20newsgroups(subset='train', shuffle = True)\n",
    "newsgroups_test = fetch_20newsgroups(subset='test', shuffle = True)"
   ]
  },
  {
   "cell_type": "markdown",
   "metadata": {},
   "source": [
    "#### Topics of different news groups"
   ]
  },
  {
   "cell_type": "code",
   "execution_count": 27,
   "metadata": {},
   "outputs": [
    {
     "data": {
      "text/plain": [
       "['alt.atheism',\n",
       " 'comp.graphics',\n",
       " 'comp.os.ms-windows.misc',\n",
       " 'comp.sys.ibm.pc.hardware',\n",
       " 'comp.sys.mac.hardware',\n",
       " 'comp.windows.x',\n",
       " 'misc.forsale',\n",
       " 'rec.autos',\n",
       " 'rec.motorcycles',\n",
       " 'rec.sport.baseball',\n",
       " 'rec.sport.hockey',\n",
       " 'sci.crypt',\n",
       " 'sci.electronics',\n",
       " 'sci.med',\n",
       " 'sci.space',\n",
       " 'soc.religion.christian',\n",
       " 'talk.politics.guns',\n",
       " 'talk.politics.mideast',\n",
       " 'talk.politics.misc',\n",
       " 'talk.religion.misc']"
      ]
     },
     "execution_count": 27,
     "metadata": {},
     "output_type": "execute_result"
    }
   ],
   "source": [
    "newsgroups_train.target_names"
   ]
  },
  {
   "cell_type": "code",
   "execution_count": 28,
   "metadata": {},
   "outputs": [
    {
     "data": {
      "text/plain": [
       "list"
      ]
     },
     "execution_count": 28,
     "metadata": {},
     "output_type": "execute_result"
    }
   ],
   "source": [
    "type(newsgroups_train.data)"
   ]
  },
  {
   "cell_type": "code",
   "execution_count": 29,
   "metadata": {},
   "outputs": [
    {
     "data": {
      "text/plain": [
       "11314"
      ]
     },
     "execution_count": 29,
     "metadata": {},
     "output_type": "execute_result"
    }
   ],
   "source": [
    "len(newsgroups_train.data)"
   ]
  },
  {
   "cell_type": "code",
   "execution_count": 30,
   "metadata": {},
   "outputs": [],
   "source": [
    "data=newsgroups_train.data"
   ]
  },
  {
   "cell_type": "code",
   "execution_count": 31,
   "metadata": {},
   "outputs": [
    {
     "data": {
      "text/plain": [
       "'From: twillis@ec.ecn.purdue.edu (Thomas E Willis)\\nSubject: PB questions...\\nOrganization: Purdue University Engineering Computer Network\\nDistribution: usa\\nLines: 36\\n\\nwell folks, my mac plus finally gave up the ghost this weekend after\\nstarting life as a 512k way back in 1985.  sooo, i\\'m in the market for a\\nnew machine a bit sooner than i intended to be...\\n\\ni\\'m looking into picking up a powerbook 160 or maybe 180 and have a bunch\\nof questions that (hopefully) somebody can answer:\\n\\n* does anybody know any dirt on when the next round of powerbook\\nintroductions are expected?  i\\'d heard the 185c was supposed to make an\\nappearence \"this summer\" but haven\\'t heard anymore on it - and since i\\ndon\\'t have access to macleak, i was wondering if anybody out there had\\nmore info...\\n\\n* has anybody heard rumors about price drops to the powerbook line like the\\nones the duo\\'s just went through recently?\\n\\n* what\\'s the impression of the display on the 180?  i could probably swing\\na 180 if i got the 80Mb disk rather than the 120, but i don\\'t really have\\na feel for how much \"better\" the display is (yea, it looks great in the\\nstore, but is that all \"wow\" or is it really that good?).  could i solicit\\nsome opinions of people who use the 160 and 180 day-to-day on if its worth\\ntaking the disk size and money hit to get the active display?  (i realize\\nthis is a real subjective question, but i\\'ve only played around with the\\nmachines in a computer store breifly and figured the opinions of somebody\\nwho actually uses the machine daily might prove helpful).\\n\\n* how well does hellcats perform?  ;)\\n\\nthanks a bunch in advance for any info - if you could email, i\\'ll post a\\nsummary (news reading time is at a premium with finals just around the\\ncorner... :( )\\n--\\nTom Willis  \\\\  twillis@ecn.purdue.edu    \\\\    Purdue Electrical Engineering\\n---------------------------------------------------------------------------\\n\"Convictions are more dangerous enemies of truth than lies.\"  - F. W.\\nNietzsche\\n'"
      ]
     },
     "execution_count": 31,
     "metadata": {},
     "output_type": "execute_result"
    }
   ],
   "source": [
    "data[2]"
   ]
  },
  {
   "cell_type": "markdown",
   "metadata": {},
   "source": [
    "## Step 2: Data Preprocessing\n",
    "\n",
    "### Perform the following steps:\n",
    "\n",
    "#### Tokenization: Split the text into sentences and the sentences into words. Lowercase the words and remove punctuation.\n",
    "#### All stopwords are removed.\n",
    "#### Words are lemmatized - words in third person are changed to first person and verbs in past and future tenses are changed into present.\n",
    "#### Words are stemmed - words are reduced to their root form."
   ]
  },
  {
   "cell_type": "code",
   "execution_count": 32,
   "metadata": {},
   "outputs": [],
   "source": [
    "lemma=WordNetLemmatizer()"
   ]
  },
  {
   "cell_type": "code",
   "execution_count": 33,
   "metadata": {},
   "outputs": [],
   "source": [
    "new_data=[]\n",
    "for a in data:\n",
    "    a=a.lower()\n",
    "    text=re.sub('[^a-z]',' ',a)\n",
    "    text=text.split(' ')\n",
    "    text=[lemma.lemmatize(word) for word in text if word not in stopwords.words('english')]\n",
    "    text=' '.join(text)\n",
    "    new_data.append(text)"
   ]
  },
  {
   "cell_type": "code",
   "execution_count": 34,
   "metadata": {},
   "outputs": [
    {
     "name": "stdout",
     "output_type": "stream",
     "text": [
      "11314\n"
     ]
    }
   ],
   "source": [
    "print(len(new_data))"
   ]
  },
  {
   "cell_type": "code",
   "execution_count": 35,
   "metadata": {},
   "outputs": [
    {
     "data": {
      "text/plain": [
       "' twillis ec ecn purdue edu  thomas e willis  subject  pb question    organization  purdue university engineering computer network distribution  usa line      well folk  mac plus finally gave ghost weekend starting life    k way back        sooo  market new machine bit sooner intended     looking picking powerbook     maybe     bunch question  hopefully  somebody answer     anybody know dirt next round powerbook introduction expected   heard    c supposed make appearence  summer  heard anymore   since access macleak  wondering anybody info       anybody heard rumor price drop powerbook line like one duo went recently     impression display       could probably swing     got   mb disk rather      really feel much  better  display  yea  look great store   wow  really good     could solicit opinion people use         day day worth taking disk size money hit get active display    realize real subjective question  played around machine computer store breifly figured opinion somebody actually us machine daily might prove helpful      well hellcat perform       thanks bunch advance info   could email  post summary  news reading time premium final around corner            tom willis     twillis ecn purdue edu         purdue electrical engineering                                                                              conviction dangerous enemy truth lie      f  w  nietzsche '"
      ]
     },
     "execution_count": 35,
     "metadata": {},
     "output_type": "execute_result"
    }
   ],
   "source": [
    "new_data[2]"
   ]
  },
  {
   "cell_type": "markdown",
   "metadata": {},
   "source": [
    "## Step 3: Bag of words on the dataset"
   ]
  },
  {
   "cell_type": "code",
   "execution_count": 36,
   "metadata": {},
   "outputs": [],
   "source": [
    "vector=CountVectorizer()"
   ]
  },
  {
   "cell_type": "code",
   "execution_count": 37,
   "metadata": {},
   "outputs": [],
   "source": [
    "X = vector.fit_transform(new_data)"
   ]
  },
  {
   "cell_type": "code",
   "execution_count": 38,
   "metadata": {},
   "outputs": [
    {
     "data": {
      "text/plain": [
       "(11314, 82706)"
      ]
     },
     "execution_count": 38,
     "metadata": {},
     "output_type": "execute_result"
    }
   ],
   "source": [
    "X.shape"
   ]
  },
  {
   "cell_type": "markdown",
   "metadata": {},
   "source": [
    "#### Convert sparse matrix to gensim corpus."
   ]
  },
  {
   "cell_type": "code",
   "execution_count": 39,
   "metadata": {},
   "outputs": [],
   "source": [
    "corpus = gensim.matutils.Sparse2Corpus(X, documents_columns=False)"
   ]
  },
  {
   "cell_type": "markdown",
   "metadata": {},
   "source": [
    "#### Mapping from word IDs to words"
   ]
  },
  {
   "cell_type": "code",
   "execution_count": 40,
   "metadata": {},
   "outputs": [],
   "source": [
    "id_map={}\n",
    "for k,v in vector.vocabulary_.items():\n",
    "    id_map[v]=k"
   ]
  },
  {
   "cell_type": "markdown",
   "metadata": {},
   "source": [
    "## Step 4: Running LDA using Bag of Words"
   ]
  },
  {
   "cell_type": "code",
   "execution_count": 41,
   "metadata": {
    "scrolled": true
   },
   "outputs": [],
   "source": [
    "lda_model = gensim.models.LdaModel(corpus,id2word=id_map,num_topics=8,passes=15)"
   ]
  },
  {
   "cell_type": "code",
   "execution_count": 46,
   "metadata": {},
   "outputs": [],
   "source": [
    "topics_words = lda_model.print_topics(num_topics=8,num_words=10)"
   ]
  },
  {
   "cell_type": "code",
   "execution_count": 47,
   "metadata": {},
   "outputs": [
    {
     "name": "stdout",
     "output_type": "stream",
     "text": [
      "topic 0\n",
      "0.014*\"game\" + 0.012*\"team\" + 0.008*\"year\" + 0.008*\"player\" + 0.007*\"ca\" + 0.006*\"hockey\" + 0.006*\"play\" + 0.005*\"win\" + 0.005*\"season\" + 0.004*\"league\"\n",
      "\n",
      "\n",
      "topic 1\n",
      "0.009*\"line\" + 0.008*\"edu\" + 0.007*\"subject\" + 0.007*\"window\" + 0.007*\"file\" + 0.007*\"com\" + 0.006*\"organization\" + 0.006*\"use\" + 0.005*\"system\" + 0.005*\"drive\"\n",
      "\n",
      "\n",
      "topic 2\n",
      "0.013*\"space\" + 0.012*\"nasa\" + 0.008*\"armenian\" + 0.008*\"gov\" + 0.005*\"turkish\" + 0.004*\"center\" + 0.003*\"year\" + 0.003*\"moon\" + 0.003*\"earth\" + 0.003*\"orbit\"\n",
      "\n",
      "\n",
      "topic 3\n",
      "0.008*\"edu\" + 0.006*\"people\" + 0.005*\"would\" + 0.005*\"article\" + 0.005*\"writes\" + 0.005*\"subject\" + 0.004*\"organization\" + 0.004*\"state\" + 0.004*\"line\" + 0.004*\"one\"\n",
      "\n",
      "\n",
      "topic 4\n",
      "0.016*\"key\" + 0.007*\"chip\" + 0.007*\"one\" + 0.006*\"com\" + 0.006*\"encryption\" + 0.006*\"clipper\" + 0.005*\"would\" + 0.005*\"government\" + 0.004*\"system\" + 0.004*\"use\"\n",
      "\n",
      "\n",
      "topic 5\n",
      "0.008*\"one\" + 0.008*\"god\" + 0.008*\"people\" + 0.008*\"would\" + 0.006*\"edu\" + 0.005*\"think\" + 0.005*\"say\" + 0.004*\"gun\" + 0.004*\"com\" + 0.004*\"subject\"\n",
      "\n",
      "\n",
      "topic 6\n",
      "0.382*\"ax\" + 0.029*\"max\" + 0.008*\"cx\" + 0.006*\"ei\" + 0.006*\"pl\" + 0.005*\"di\" + 0.004*\"um\" + 0.003*\"tm\" + 0.003*\"scx\" + 0.003*\"bhj\"\n",
      "\n",
      "\n",
      "topic 7\n",
      "0.033*\"edu\" + 0.016*\"com\" + 0.015*\"line\" + 0.015*\"subject\" + 0.015*\"organization\" + 0.010*\"article\" + 0.010*\"writes\" + 0.008*\"posting\" + 0.008*\"nntp\" + 0.008*\"host\"\n",
      "\n",
      "\n"
     ]
    }
   ],
   "source": [
    "for no,top in topics_words:\n",
    "    print('topic',no)\n",
    "    print(top)\n",
    "    print('\\n')"
   ]
  },
  {
   "cell_type": "markdown",
   "metadata": {},
   "source": [
    "### Classification of the topics\n",
    "#### Using the words in each topic and their categories\n",
    "\n",
    "* Sports\n",
    "* Computer hardware\n",
    "* Space\n",
    "* Encyption\n",
    "* Relegion\n",
    "\n"
   ]
  },
  {
   "cell_type": "markdown",
   "metadata": {},
   "source": [
    "## Step 6: Testing model on unseen document"
   ]
  },
  {
   "cell_type": "code",
   "execution_count": 102,
   "metadata": {},
   "outputs": [
    {
     "name": "stdout",
     "output_type": "stream",
     "text": [
      "From: Matjaz.Gams@IJS.si\n",
      "Subject: ``Call for Papers for INFORMATIKA'' Vol. 17 No. 2\n",
      "Originator: abrodnik@watdragon.uwaterloo.ca\n",
      "Organization: Jozef Stefan Institute, Ljubljana, Slovenia\n",
      "Lines: 69\n",
      "\n",
      "This is an invitation to send articles to the Informatica magazine.\n",
      "The first fully international issue has been published and echoes \n",
      "are quite favourable. For any information, contact (matjaz.gams@ijs.si). \n",
      "\n",
      "Dear Colleague,                                        April 25, 1993\n",
      "\n",
      "Number 1 of volume 17 of Informatica is now out of print and some of you \n",
      "will receive it in a week or so. As you will see, the journal is structured\n",
      "in the following way: the editorial (first page); profiles (second page\n",
      "-- biography of an editor, in this issue, Terry Winograd); the edited\n",
      "part of papers (pp. 3-80); mission and research reports (A plan for\n",
      "knowledge archives project in Japan and CSLI in Stanford, pp. 81-100);\n",
      "and news and announcements (pp. 101-108). This structure is mentioned to\n",
      "give you a suggestion how could you help to make the contents of the\n",
      "journal significant, diverse, and interesting, bringing your own views\n",
      "into the discourse.\n",
      "   A great emphasis is given to the so-called editorial page. This page\n",
      "expresses an opinion (belief) of the writing editor to some problems\n",
      "within the scope of computing and informatics, extending into other\n",
      "concerning disciplines, e.g. cybernetics, advanced AI, cognitive sciences,\n",
      "mind, informationally concerned neural sciences, advanced technology \n",
      "(e.g. photonics), etc. I asked professor Terry Winograd to write this\n",
      "page for Number 2. I certainly would appreciate very much to get\n",
      "suggestions or possible offers from other editors, who like to express\n",
      "their strong (directed) beliefs concerning a future development of the\n",
      "area in question.\n",
      "   On the second page of each Number an editor's profile is published.\n",
      "The aim of the profile is twofold: to show his/her professional \n",
      "achievements, interests, scientific, and philosophical orientation on\n",
      "one side; to narrate his/her life story in the environments in which\n",
      "editors has lived and live on the other side. This kind of story should\n",
      "be instructive, adequately factically faced, contributing to the \n",
      "understanding of circumstances in which editors have to act and live.\n",
      "   The edited part (edited papers) is still critical. I would like to have\n",
      "a stock of accepted papers in advance, so the issuing dates of a particular\n",
      "number can be fixed (e.g. January, April, July, and October). In situation\n",
      "right now, I ask you to help me with contributions of yours or your\n",
      "colleagues, collaborators, students, etc. Some critical views to the\n",
      "contemporary development of computing and informatics are appreciated.\n",
      "A special emphasis should be given also to originality by which fresh\n",
      "ideas are coming into the circulation of different professional communities.\n",
      "   Reports of different occasions (symposia, conferences, meetings, etc.)\n",
      "and particularly on new books, papers, and interesting events are welcome.\n",
      "You can send these news immediately (also by your secretary) by e-mail.\n",
      "On the other hand, you can send books and other publications (annual\n",
      "reports, journals, calls for papers, etc.) for reviewing and publishing\n",
      "in Informatica. We in the editorial staff will manage the rest.\n",
      "   E-mail is functioning satisfactorily, so please use it in every respect.\n",
      "You can submit editorial notes, profiles, reports, news and even complete\n",
      "papers written in standard LaTex format (especially formulas). We received\n",
      "several final (corrected) texts in Number 1 from different sites (US,\n",
      "Russia, etc.). In this way, you can compose reports from already typed\n",
      "texts, using your own choice and editing, and submit them to the contact\n",
      "person (matjaz.gams@ijs.si), who is always being on your disposal. So,\n",
      "you will receive a prompt confirmation and any information concerning\n",
      "our common interest and job.\n",
      "\n",
      "At the end, please do not forget: we need your cooperation and help in\n",
      "every mentioned respect. The aim of Informatica is to open various\n",
      "possibilities of communication concerning strong scientific and \n",
      "philosophical orientations as well as those coming up, still unrevealed,\n",
      "and on the way to become significant. Please, do not apprehend to give\n",
      "proposals, suggestions, and, certainly, contributions via the e-mail\n",
      "and by other means.\n",
      "\n",
      "Sincerely yours,\n",
      "\n",
      "Anton P. \"Zeleznikar\n",
      "Editor-in-chief\n",
      "\n"
     ]
    }
   ],
   "source": [
    "num=20\n",
    "unseen_document = newsgroups_test.data[num]\n",
    "print(unseen_document)"
   ]
  },
  {
   "cell_type": "code",
   "execution_count": 103,
   "metadata": {},
   "outputs": [
    {
     "name": "stdout",
     "output_type": "stream",
     "text": [
      "1\n"
     ]
    }
   ],
   "source": [
    "print(newsgroups_test.target[num])"
   ]
  },
  {
   "cell_type": "code",
   "execution_count": 104,
   "metadata": {},
   "outputs": [
    {
     "data": {
      "text/plain": [
       "['alt.atheism',\n",
       " 'comp.graphics',\n",
       " 'comp.os.ms-windows.misc',\n",
       " 'comp.sys.ibm.pc.hardware',\n",
       " 'comp.sys.mac.hardware',\n",
       " 'comp.windows.x',\n",
       " 'misc.forsale',\n",
       " 'rec.autos',\n",
       " 'rec.motorcycles',\n",
       " 'rec.sport.baseball',\n",
       " 'rec.sport.hockey',\n",
       " 'sci.crypt',\n",
       " 'sci.electronics',\n",
       " 'sci.med',\n",
       " 'sci.space',\n",
       " 'soc.religion.christian',\n",
       " 'talk.politics.guns',\n",
       " 'talk.politics.mideast',\n",
       " 'talk.politics.misc',\n",
       " 'talk.religion.misc']"
      ]
     },
     "execution_count": 104,
     "metadata": {},
     "output_type": "execute_result"
    }
   ],
   "source": [
    "list(newsgroups_test.target_names)"
   ]
  },
  {
   "cell_type": "code",
   "execution_count": 105,
   "metadata": {},
   "outputs": [],
   "source": [
    "def clean_text(a):\n",
    "    a=a.lower()\n",
    "    text=re.sub('[^a-z]',' ',a)\n",
    "    text=text.split(' ')\n",
    "    text=[lemma.lemmatize(word) for word in text if word not in stopwords.words('english')]\n",
    "    text=' '.join(text)\n",
    "    return text"
   ]
  },
  {
   "cell_type": "code",
   "execution_count": 106,
   "metadata": {},
   "outputs": [
    {
     "data": {
      "text/plain": [
       "' matjaz gam ijs si subject    call paper informatika   vol        originator  abrodnik watdragon uwaterloo ca organization  jozef stefan institute  ljubljana  slovenia line      invitation send article informatica magazine  first fully international issue published echo  quite favourable  information  contact  matjaz gam ijs si     dear colleague                                         april           number   volume    informatica print  receive week  see  journal structured following way  editorial  first page   profile  second page    biography editor  issue  terry winograd   edited part paper  pp         mission research report  plan knowledge archive project japan csli stanford  pp           news announcement  pp            structure mentioned give suggestion could help make content journal significant  diverse  interesting  bringing view discourse     great emphasis given called editorial page  page express opinion  belief  writing editor problem within scope computing informatics  extending concerning discipline  e g  cybernetics  advanced ai  cognitive science  mind  informationally concerned neural science  advanced technology   e g  photonics   etc  asked professor terry winograd write page number    certainly would appreciate much get suggestion possible offer editor  like express strong  directed  belief concerning future development area question     second page number editor profile published  aim profile twofold  show professional  achievement  interest  scientific  philosophical orientation one side  narrate life story environment editor lived live side  kind story instructive  adequately factically faced  contributing  understanding circumstance editor act live     edited part  edited paper  still critical  would like stock accepted paper advance  issuing date particular number fixed  e g  january  april  july  october   situation right  ask help contribution colleague  collaborator  student  etc  critical view contemporary development computing informatics appreciated  special emphasis given also originality fresh idea coming circulation different professional community     report different occasion  symposium  conference  meeting  etc   particularly new book  paper  interesting event welcome  send news immediately  also secretary  e mail  hand  send book publication  annual report  journal  call paper  etc   reviewing publishing informatica  editorial staff manage rest     e mail functioning satisfactorily  please use every respect  submit editorial note  profile  report  news even complete paper written standard latex format  especially formula   received several final  corrected  text number   different site  u  russia  etc    way  compose report already typed text  using choice editing  submit contact person  matjaz gam ijs si   always disposal   receive prompt confirmation information concerning common interest job   end  please forget  need cooperation help every mentioned respect  aim informatica open various possibility communication concerning strong scientific  philosophical orientation well coming  still unrevealed  way become significant  please  apprehend give proposal  suggestion   certainly  contribution via e mail mean   sincerely   anton p   zeleznikar editor chief '"
      ]
     },
     "execution_count": 106,
     "metadata": {},
     "output_type": "execute_result"
    }
   ],
   "source": [
    "unseen_document=clean_text(unseen_document)\n",
    "unseen_document"
   ]
  },
  {
   "cell_type": "code",
   "execution_count": 107,
   "metadata": {},
   "outputs": [
    {
     "data": {
      "text/plain": [
       "[[(1, 0.3165695),\n",
       "  (2, 0.17115526),\n",
       "  (3, 0.24209571),\n",
       "  (4, 0.034918953),\n",
       "  (5, 0.2257816)]]"
      ]
     },
     "execution_count": 107,
     "metadata": {},
     "output_type": "execute_result"
    }
   ],
   "source": [
    "y = vector.transform([unseen_document])\n",
    "y_corpus = gensim.matutils.Sparse2Corpus(y, documents_columns=False)\n",
    "prediction = lda_model.get_document_topics(y_corpus)\n",
    "list(sorted(prediction))"
   ]
  },
  {
   "cell_type": "markdown",
   "metadata": {},
   "source": [
    "#### The model correctly classifies the unseen document with 'x'% probability to the X category."
   ]
  }
 ],
 "metadata": {
  "kernelspec": {
   "display_name": "Python 3",
   "language": "python",
   "name": "python3"
  },
  "language_info": {
   "codemirror_mode": {
    "name": "ipython",
    "version": 3
   },
   "file_extension": ".py",
   "mimetype": "text/x-python",
   "name": "python",
   "nbconvert_exporter": "python",
   "pygments_lexer": "ipython3",
   "version": "3.7.4"
  }
 },
 "nbformat": 4,
 "nbformat_minor": 2
}
