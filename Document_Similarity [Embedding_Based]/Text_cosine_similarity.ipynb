{
  "nbformat": 4,
  "nbformat_minor": 0,
  "metadata": {
    "kernelspec": {
      "display_name": "Python 3",
      "language": "python",
      "name": "python3"
    },
    "language_info": {
      "codemirror_mode": {
        "name": "ipython",
        "version": 3
      },
      "file_extension": ".py",
      "mimetype": "text/x-python",
      "name": "python",
      "nbconvert_exporter": "python",
      "pygments_lexer": "ipython3",
      "version": "3.7.4"
    },
    "colab": {
      "name": "Text_cosine_similarity.ipynb",
      "provenance": [],
      "collapsed_sections": []
    }
  },
  "cells": [
    {
      "cell_type": "markdown",
      "metadata": {
        "id": "H6uhJnvtmI1M",
        "colab_type": "text"
      },
      "source": [
        "# Document Similarity-Embedding Methods"
      ]
    },
    {
      "cell_type": "code",
      "metadata": {
        "id": "Y-wHT04BmI1N",
        "colab_type": "code",
        "colab": {}
      },
      "source": [
        "from sklearn.feature_extraction.text import CountVectorizer\n",
        "from sklearn.feature_extraction.text import TfidfVectorizer\n",
        "from sklearn.metrics.pairwise import cosine_similarity\n",
        "from scipy.spatial import distance"
      ],
      "execution_count": 0,
      "outputs": []
    },
    {
      "cell_type": "code",
      "metadata": {
        "id": "pOQLMPQKmI1U",
        "colab_type": "code",
        "colab": {}
      },
      "source": [
        "import numpy as np \n",
        "import pandas as pd \n",
        "import matplotlib.pyplot as plt\n",
        "import re\n",
        "from nltk.corpus import  stopwords\n",
        "import nltk"
      ],
      "execution_count": 0,
      "outputs": []
    },
    {
      "cell_type": "code",
      "metadata": {
        "id": "5jITHcsemI1c",
        "colab_type": "code",
        "colab": {}
      },
      "source": [
        "str1 = 'The president greets the press in Chicago'\n",
        "str2 = 'Obama speaks to the media in Illinois'"
      ],
      "execution_count": 0,
      "outputs": []
    },
    {
      "cell_type": "markdown",
      "metadata": {
        "id": "ndVakvjimI1g",
        "colab_type": "text"
      },
      "source": [
        "## Text Similarity using Count Vectorizer and Cosine Similarity"
      ]
    },
    {
      "cell_type": "markdown",
      "metadata": {
        "id": "quR-xnE9mI1h",
        "colab_type": "text"
      },
      "source": [
        "###  Count Vectorizer"
      ]
    },
    {
      "cell_type": "code",
      "metadata": {
        "id": "LxCM6KYImI1i",
        "colab_type": "code",
        "colab": {}
      },
      "source": [
        "vectorizer = CountVectorizer()"
      ],
      "execution_count": 0,
      "outputs": []
    },
    {
      "cell_type": "code",
      "metadata": {
        "id": "DXK7nnmkmI1m",
        "colab_type": "code",
        "colab": {}
      },
      "source": [
        "s=[str1,str2]"
      ],
      "execution_count": 0,
      "outputs": []
    },
    {
      "cell_type": "code",
      "metadata": {
        "id": "tBXTwQ2PmI1q",
        "colab_type": "code",
        "colab": {
          "base_uri": "https://localhost:8080/",
          "height": 52
        },
        "outputId": "597b3cb0-b460-430b-ea4a-1e64921b1519"
      },
      "source": [
        "all_vector=vectorizer.fit_transform(s)\n",
        "all_vector.toarray()"
      ],
      "execution_count": 34,
      "outputs": [
        {
          "output_type": "execute_result",
          "data": {
            "text/plain": [
              "array([[1, 1, 0, 0, 0, 1, 1, 0],\n",
              "       [0, 0, 1, 1, 1, 0, 0, 1]])"
            ]
          },
          "metadata": {
            "tags": []
          },
          "execution_count": 34
        }
      ]
    },
    {
      "cell_type": "markdown",
      "metadata": {
        "id": "tV_3WsS7mI1v",
        "colab_type": "text"
      },
      "source": [
        "### Finding Cosine Similarity"
      ]
    },
    {
      "cell_type": "code",
      "metadata": {
        "id": "l743ukO_mI1w",
        "colab_type": "code",
        "colab": {}
      },
      "source": [
        "v_a=all_vector.toarray()[0]\n",
        "v_b=all_vector.toarray()[1]"
      ],
      "execution_count": 0,
      "outputs": []
    },
    {
      "cell_type": "code",
      "metadata": {
        "id": "lXLQr53mmI1z",
        "colab_type": "code",
        "colab": {
          "base_uri": "https://localhost:8080/",
          "height": 34
        },
        "outputId": "5b226469-eb47-4a74-bf0e-c7415ea1a892"
      },
      "source": [
        "cosine_sim=cosine_similarity([v_a],[v_b])\n",
        "print('Similarity of two sentences are equal to',((cosine_sim[0][0])*100),'%')"
      ],
      "execution_count": 36,
      "outputs": [
        {
          "output_type": "stream",
          "text": [
            "Similarity of two sentences are equal to 0.0 %\n"
          ],
          "name": "stdout"
        }
      ]
    },
    {
      "cell_type": "code",
      "metadata": {
        "id": "Bq6lsHV6mI13",
        "colab_type": "code",
        "colab": {}
      },
      "source": [
        "v1 = all_vector.toarray()[0]\n",
        "v2 = all_vector.toarray()[1]"
      ],
      "execution_count": 0,
      "outputs": []
    },
    {
      "cell_type": "markdown",
      "metadata": {
        "id": "G2OUEgZxmI16",
        "colab_type": "text"
      },
      "source": [
        "### Finding Cosine Distance"
      ]
    },
    {
      "cell_type": "markdown",
      "metadata": {
        "id": "wzrV7nltmI17",
        "colab_type": "text"
      },
      "source": [
        "#### Cosine_distance = 1 - cosine_similarity"
      ]
    },
    {
      "cell_type": "code",
      "metadata": {
        "id": "nXzwOmrfmI18",
        "colab_type": "code",
        "colab": {
          "base_uri": "https://localhost:8080/",
          "height": 34
        },
        "outputId": "ceb5ff1f-a595-4d78-a6cd-3ba9a12899c4"
      },
      "source": [
        "cosine_dist= distance.cosine(v1,v2)\n",
        "cosine_dist"
      ],
      "execution_count": 70,
      "outputs": [
        {
          "output_type": "execute_result",
          "data": {
            "text/plain": [
              "1.0"
            ]
          },
          "metadata": {
            "tags": []
          },
          "execution_count": 70
        }
      ]
    },
    {
      "cell_type": "code",
      "metadata": {
        "scrolled": false,
        "id": "1A7uvvIWmI1_",
        "colab_type": "code",
        "colab": {
          "base_uri": "https://localhost:8080/",
          "height": 34
        },
        "outputId": "8da4bad9-f6b9-4fbb-9146-651e4a9ca3e2"
      },
      "source": [
        "print('Similarity of two sentences are equal to',((1-cosine_dist)*100),'%')"
      ],
      "execution_count": 39,
      "outputs": [
        {
          "output_type": "stream",
          "text": [
            "Similarity of two sentences are equal to 0.0 %\n"
          ],
          "name": "stdout"
        }
      ]
    },
    {
      "cell_type": "markdown",
      "metadata": {
        "id": "iZ8JJhPVmI2D",
        "colab_type": "text"
      },
      "source": [
        "## Text Similarity using Globe Embedding and Cosine Similarity"
      ]
    },
    {
      "cell_type": "code",
      "metadata": {
        "id": "sJpqE1o5mfVg",
        "colab_type": "code",
        "colab": {}
      },
      "source": [
        "def clean_text(a):\n",
        "  text=re.sub('[^a-zA-Z]',' ',a)\n",
        "  text=text.lower()\n",
        "  text=text.split(' ')\n",
        "  text=list([word for word in text])\n",
        "  return text"
      ],
      "execution_count": 0,
      "outputs": []
    },
    {
      "cell_type": "code",
      "metadata": {
        "id": "6EudKw6NmI2D",
        "colab_type": "code",
        "colab": {
          "base_uri": "https://localhost:8080/",
          "height": 209
        },
        "outputId": "407573e7-e31e-43d0-b14d-6a41667c1d89"
      },
      "source": [
        "# Note this is the 100 dimension version of GloVe from Stanford\n",
        "# I unzipped and hosted it on my site to make this notebook easier\n",
        "!wget --no-check-certificate \\\n",
        "    https://storage.googleapis.com/laurencemoroney-blog.appspot.com/glove.6B.100d.txt \\\n",
        "    -O /tmp/glove.6B.100d.txt\n",
        "embeddings_index = {};\n",
        "with open('/tmp/glove.6B.100d.txt') as f:\n",
        "    for line in f:\n",
        "        values = line.split();\n",
        "        word = values[0];\n",
        "        coefs = np.asarray(values[1:], dtype='float32');\n",
        "        embeddings_index[word] = coefs;"
      ],
      "execution_count": 14,
      "outputs": [
        {
          "output_type": "stream",
          "text": [
            "--2020-05-09 13:21:59--  https://storage.googleapis.com/laurencemoroney-blog.appspot.com/glove.6B.100d.txt\n",
            "Resolving storage.googleapis.com (storage.googleapis.com)... 74.125.142.128, 2607:f8b0:400e:c07::80\n",
            "Connecting to storage.googleapis.com (storage.googleapis.com)|74.125.142.128|:443... connected.\n",
            "HTTP request sent, awaiting response... 200 OK\n",
            "Length: 347116733 (331M) [text/plain]\n",
            "Saving to: ‘/tmp/glove.6B.100d.txt’\n",
            "\n",
            "/tmp/glove.6B.100d. 100%[===================>] 331.04M   219MB/s    in 1.5s    \n",
            "\n",
            "2020-05-09 13:22:00 (219 MB/s) - ‘/tmp/glove.6B.100d.txt’ saved [347116733/347116733]\n",
            "\n"
          ],
          "name": "stdout"
        }
      ]
    },
    {
      "cell_type": "code",
      "metadata": {
        "id": "kgGrfJQAtP25",
        "colab_type": "code",
        "colab": {}
      },
      "source": [
        "strl1=clean_text(str1)\n",
        "strl2=clean_text(str2)"
      ],
      "execution_count": 0,
      "outputs": []
    },
    {
      "cell_type": "code",
      "metadata": {
        "id": "hLIf2DmQyCZa",
        "colab_type": "code",
        "colab": {
          "base_uri": "https://localhost:8080/",
          "height": 34
        },
        "outputId": "1db89df5-77b0-4b9f-e714-fb0de22c9864"
      },
      "source": [
        "strl1"
      ],
      "execution_count": 84,
      "outputs": [
        {
          "output_type": "execute_result",
          "data": {
            "text/plain": [
              "['the', 'president', 'greets', 'the', 'press', 'in', 'chicago']"
            ]
          },
          "metadata": {
            "tags": []
          },
          "execution_count": 84
        }
      ]
    },
    {
      "cell_type": "code",
      "metadata": {
        "id": "q4KrW3TDtUFU",
        "colab_type": "code",
        "colab": {
          "base_uri": "https://localhost:8080/",
          "height": 34
        },
        "outputId": "b3d1b82f-151c-49ca-e64c-b14a8fa78c08"
      },
      "source": [
        "strl2"
      ],
      "execution_count": 77,
      "outputs": [
        {
          "output_type": "execute_result",
          "data": {
            "text/plain": [
              "['obama', 'speaks', 'to', 'the', 'media', 'in', 'illinois']"
            ]
          },
          "metadata": {
            "tags": []
          },
          "execution_count": 77
        }
      ]
    },
    {
      "cell_type": "markdown",
      "metadata": {
        "id": "cBQEOVLnyG-r",
        "colab_type": "text"
      },
      "source": [
        "### Creating Vectors from globe \n"
      ]
    },
    {
      "cell_type": "code",
      "metadata": {
        "id": "obOsfL2PmYUZ",
        "colab_type": "code",
        "colab": {}
      },
      "source": [
        "vect1=np.mean([embeddings_index[word] for word in strl1],axis=0)\n",
        "vect2=np.mean([embeddings_index[word] for word in strl2],axis=0)"
      ],
      "execution_count": 0,
      "outputs": []
    },
    {
      "cell_type": "markdown",
      "metadata": {
        "id": "zEKvGq_0yQS0",
        "colab_type": "text"
      },
      "source": [
        "### Cosine Similarity"
      ]
    },
    {
      "cell_type": "code",
      "metadata": {
        "id": "ZHogcyQIuYA1",
        "colab_type": "code",
        "colab": {}
      },
      "source": [
        "cosine_similar=cosine_similarity([vect1],[vect2])"
      ],
      "execution_count": 0,
      "outputs": []
    },
    {
      "cell_type": "code",
      "metadata": {
        "id": "v6MA6Ta7ugGR",
        "colab_type": "code",
        "colab": {
          "base_uri": "https://localhost:8080/",
          "height": 34
        },
        "outputId": "a5bd5188-f6a0-4993-e46e-09a9a091d941"
      },
      "source": [
        "cosine_similar"
      ],
      "execution_count": 87,
      "outputs": [
        {
          "output_type": "execute_result",
          "data": {
            "text/plain": [
              "array([[0.92722815]], dtype=float32)"
            ]
          },
          "metadata": {
            "tags": []
          },
          "execution_count": 87
        }
      ]
    },
    {
      "cell_type": "code",
      "metadata": {
        "id": "zBPEXLnPycb6",
        "colab_type": "code",
        "colab": {
          "base_uri": "https://localhost:8080/",
          "height": 34
        },
        "outputId": "b570bff4-8d71-4c68-84f3-d22657492e87"
      },
      "source": [
        "print('Similarity of two sentences are equal to',((cosine_similar[0][0])*100),'%')"
      ],
      "execution_count": 88,
      "outputs": [
        {
          "output_type": "stream",
          "text": [
            "Similarity of two sentences are equal to 92.72281527519226 %\n"
          ],
          "name": "stdout"
        }
      ]
    },
    {
      "cell_type": "markdown",
      "metadata": {
        "id": "Es1rNGRhyYwr",
        "colab_type": "text"
      },
      "source": [
        "### Cosine Distance"
      ]
    },
    {
      "cell_type": "code",
      "metadata": {
        "id": "8D3aZ_I1uiDc",
        "colab_type": "code",
        "colab": {}
      },
      "source": [
        " cosine_dist = distance.cosine(vect1, vect2)"
      ],
      "execution_count": 0,
      "outputs": []
    },
    {
      "cell_type": "code",
      "metadata": {
        "id": "db-OxwtLyu0K",
        "colab_type": "code",
        "colab": {
          "base_uri": "https://localhost:8080/",
          "height": 34
        },
        "outputId": "1a75e55c-24dc-4656-dddc-ad9ac54b7f61"
      },
      "source": [
        "cosine_dist"
      ],
      "execution_count": 90,
      "outputs": [
        {
          "output_type": "execute_result",
          "data": {
            "text/plain": [
              "0.07277172803878784"
            ]
          },
          "metadata": {
            "tags": []
          },
          "execution_count": 90
        }
      ]
    },
    {
      "cell_type": "code",
      "metadata": {
        "id": "e8Zxw96hv0QK",
        "colab_type": "code",
        "colab": {
          "base_uri": "https://localhost:8080/",
          "height": 34
        },
        "outputId": "c24f793d-5d48-4d48-ab2a-9d8215df06c7"
      },
      "source": [
        "print('Similarity of two sentences are equal to',((1-cosine_dist)*100),'%')"
      ],
      "execution_count": 89,
      "outputs": [
        {
          "output_type": "stream",
          "text": [
            "Similarity of two sentences are equal to 92.72282719612122 %\n"
          ],
          "name": "stdout"
        }
      ]
    },
    {
      "cell_type": "markdown",
      "metadata": {
        "id": "lY3eHv58yycg",
        "colab_type": "text"
      },
      "source": [
        "## Globe Embedding With Cosine Similarity gives more accurate results.\n"
      ]
    },
    {
      "cell_type": "markdown",
      "metadata": {
        "id": "DSxbYE8Y06kk",
        "colab_type": "text"
      },
      "source": [
        "## Building Functions to Implement it\n"
      ]
    },
    {
      "cell_type": "code",
      "metadata": {
        "id": "c9juLFZ20485",
        "colab_type": "code",
        "colab": {}
      },
      "source": [
        "str1 = \"I was given a card by her in the garden.\"\n",
        "str2 = \"In the garden, she gave me a card.\""
      ],
      "execution_count": 0,
      "outputs": []
    },
    {
      "cell_type": "code",
      "metadata": {
        "id": "Nc8A2R_pv-KY",
        "colab_type": "code",
        "colab": {}
      },
      "source": [
        ""
      ],
      "execution_count": 0,
      "outputs": []
    }
  ]
}